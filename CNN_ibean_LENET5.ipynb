{
  "nbformat": 4,
  "nbformat_minor": 0,
  "metadata": {
    "colab": {
      "provenance": []
    },
    "kernelspec": {
      "name": "python3",
      "display_name": "Python 3"
    },
    "language_info": {
      "name": "python"
    },
    "accelerator": "GPU"
  },
  "cells": [
    {
      "cell_type": "code",
      "execution_count": 282,
      "metadata": {
        "id": "n41cuMzfDjHI"
      },
      "outputs": [],
      "source": [
        "import os\n",
        "import numpy as np\n",
        "import torch\n",
        "import glob\n",
        "import torch.nn as nn\n",
        "from torchvision.transforms import transforms\n",
        "from torch.utils.data import DataLoader\n",
        "from torch.optim import Adam\n",
        "from torch.autograd import Variable\n",
        "import torchvision\n",
        "import pathlib"
      ]
    },
    {
      "cell_type": "code",
      "source": [
        "device=torch.device('cuda' if torch.cuda.is_available() else 'cpu')"
      ],
      "metadata": {
        "id": "s_YZo9PrEiAR"
      },
      "execution_count": 283,
      "outputs": []
    },
    {
      "cell_type": "code",
      "source": [
        "print(device)"
      ],
      "metadata": {
        "id": "aPn83JedEiC0",
        "colab": {
          "base_uri": "https://localhost:8080/"
        },
        "outputId": "ed235f27-2c74-4fc6-d9c7-46254b547cb1"
      },
      "execution_count": 284,
      "outputs": [
        {
          "output_type": "stream",
          "name": "stdout",
          "text": [
            "cuda\n"
          ]
        }
      ]
    },
    {
      "cell_type": "code",
      "source": [
        "from google.colab import drive\n",
        "drive.mount('/content/test')\n"
      ],
      "metadata": {
        "id": "7HFaU_lMEiFK",
        "colab": {
          "base_uri": "https://localhost:8080/"
        },
        "outputId": "3ca6a166-1a83-4bfa-dca0-9d5111fd49b1"
      },
      "execution_count": 285,
      "outputs": [
        {
          "output_type": "stream",
          "name": "stdout",
          "text": [
            "Drive already mounted at /content/test; to attempt to forcibly remount, call drive.mount(\"/content/test\", force_remount=True).\n"
          ]
        }
      ]
    },
    {
      "cell_type": "code",
      "source": [
        "#Transforms\n",
        "transformer=transforms.Compose([\n",
        "    transforms.Resize((32,32)),\n",
        "    transforms.ToTensor(),\n",
        "    transforms.Normalize([0.5,0.5,0.5], # 0-1 to [-1,1] , formula (x-mean)/std\n",
        "                        [0.5,0.5,0.5])\n",
        "])"
      ],
      "metadata": {
        "id": "mMQUzBp4EiHH"
      },
      "execution_count": 286,
      "outputs": []
    },
    {
      "cell_type": "code",
      "source": [
        "batch_size = 8\n",
        "num_classes = 3\n",
        "learning_rate = 0.001\n",
        "num_epochs = 10"
      ],
      "metadata": {
        "id": "6raRo04vcvPI"
      },
      "execution_count": 287,
      "outputs": []
    },
    {
      "cell_type": "code",
      "source": [
        "#Path for training and testing directory\n",
        "train_path='/content/test/MyDrive/train'\n",
        "test_path='/content/test/MyDrive/test'\n",
        "validation_path = '/content/test/MyDrive/validation'\n",
        "\n",
        "train_loader=DataLoader(\n",
        "    torchvision.datasets.ImageFolder(train_path,transform=transformer),\n",
        "    batch_size=batch_size, shuffle=True\n",
        ")\n",
        "test_loader=DataLoader(\n",
        "    torchvision.datasets.ImageFolder(test_path,transform=transformer),\n",
        "    batch_size=batch_size, shuffle=True\n",
        ")\n",
        "\n",
        "validation_loader=DataLoader(\n",
        "    torchvision.datasets.ImageFolder(validation_path,transform=transformer),\n",
        "    batch_size=8, shuffle=False\n",
        ")\n"
      ],
      "metadata": {
        "id": "WEd9gBuPEiJI"
      },
      "execution_count": 288,
      "outputs": []
    },
    {
      "cell_type": "code",
      "source": [
        "test_loader.dataset[0][0].shape"
      ],
      "metadata": {
        "id": "HwxR1tHFhUuK",
        "colab": {
          "base_uri": "https://localhost:8080/"
        },
        "outputId": "9c47a319-8c77-4d5d-b4a7-b9f69e1747cb"
      },
      "execution_count": 289,
      "outputs": [
        {
          "output_type": "execute_result",
          "data": {
            "text/plain": [
              "torch.Size([3, 32, 32])"
            ]
          },
          "metadata": {},
          "execution_count": 289
        }
      ]
    },
    {
      "cell_type": "code",
      "source": [
        "root=pathlib.Path(train_path)\n",
        "classes=sorted([j.name.split('/')[-1] for j in root.iterdir()])"
      ],
      "metadata": {
        "id": "v7Y-v3bNEiLQ"
      },
      "execution_count": 290,
      "outputs": []
    },
    {
      "cell_type": "code",
      "source": [
        "print(classes)"
      ],
      "metadata": {
        "id": "EoS1suf0EiNn",
        "colab": {
          "base_uri": "https://localhost:8080/"
        },
        "outputId": "63c49e24-3fe5-4d3c-8b42-33c55cafa460"
      },
      "execution_count": 291,
      "outputs": [
        {
          "output_type": "stream",
          "name": "stdout",
          "text": [
            "['angular_leaf_spot', 'bean_rust', 'healthy']\n"
          ]
        }
      ]
    },
    {
      "cell_type": "code",
      "source": [
        "class LeNet5(nn.Module):\n",
        "    def __init__(self, num_classes):\n",
        "        super(LeNet5, self).__init__()\n",
        "        self.layer1 = nn.Sequential(\n",
        "            nn.Conv2d(3, 6, kernel_size=5, stride=1, padding=0),\n",
        "            nn.BatchNorm2d(6),\n",
        "            nn.ReLU(),\n",
        "            nn.MaxPool2d(kernel_size = 2, stride = 2))\n",
        "        self.layer2 = nn.Sequential(\n",
        "            nn.Conv2d(6, 16, kernel_size=5, stride=1, padding=0),\n",
        "            nn.BatchNorm2d(16),\n",
        "            nn.ReLU(),\n",
        "            nn.MaxPool2d(kernel_size = 2, stride = 2))\n",
        "        self.fc = nn.Linear(400, 120)\n",
        "        self.relu = nn.ReLU()\n",
        "        self.fc1 = nn.Linear(120, 84)\n",
        "        self.relu1 = nn.ReLU()\n",
        "        self.fc2 = nn.Linear(84, num_classes)\n",
        "        \n",
        "    def forward(self, x):\n",
        "        out = self.layer1(x)\n",
        "        out = self.layer2(out)\n",
        "        out = out.reshape(out.size(0), -1)\n",
        "        out = self.fc(out)\n",
        "        out = self.relu(out)\n",
        "        out = self.fc1(out)\n",
        "        out = self.relu1(out)\n",
        "        out = self.fc2(out)\n",
        "        return out\n",
        "            "
      ],
      "metadata": {
        "id": "Ldz50Gd7EiPy"
      },
      "execution_count": 307,
      "outputs": []
    },
    {
      "cell_type": "code",
      "source": [
        "import torch\n",
        "import torch.nn as nn\n",
        "import torchvision\n",
        "import torchvision.transforms as transforms\n",
        "\n",
        "model = LeNet5(num_classes=3).to(device)\n",
        "\n",
        "#Setting the loss function\n",
        "cost = nn.CrossEntropyLoss()\n",
        "criterion = nn.CrossEntropyLoss()\n",
        "#Setting the optimizer with the model parameters and learning rate\n",
        "optimizer = torch.optim.Adam(model.parameters(), lr=learning_rate)\n",
        "#optimizer = torch.optim.SGD(model.parameters(), lr = 0.01)\n",
        "#this is defined to print how many steps are remaining when training\n",
        "total_step = len(train_loader)"
      ],
      "metadata": {
        "id": "pi40RdxvEiR_"
      },
      "execution_count": 304,
      "outputs": []
    },
    {
      "cell_type": "code",
      "source": [],
      "metadata": {
        "id": "7NGOiVjf3nHZ"
      },
      "execution_count": 293,
      "outputs": []
    },
    {
      "cell_type": "code",
      "source": [
        "import numpy as np\n",
        "epochs = 50\n",
        "min_valid_loss = np.inf\n",
        "val_losses = []\n",
        "train_losses = []\n",
        "for e in range(epochs):\n",
        "    train_loss = 0.0\n",
        "    model.train()     # Optional when not using Model Specific layer\n",
        "    for data, labels in train_loader:\n",
        "        if torch.cuda.is_available():\n",
        "            data, labels = data.cuda(), labels.cuda()\n",
        "        \n",
        "        optimizer.zero_grad()\n",
        "        target = model(data)\n",
        "        loss = criterion(target,labels)\n",
        "        loss.backward()\n",
        "        optimizer.step()\n",
        "        train_loss += loss.item()\n",
        "    \n",
        "    valid_loss = 0.0\n",
        "  \n",
        "\n",
        "    model.eval()     # Optional when not using Model Specific layer\n",
        "    for data, labels in validation_loader:\n",
        "        if torch.cuda.is_available():\n",
        "            data, labels = data.cuda(), labels.cuda()\n",
        "        \n",
        "        target = model(data)\n",
        "        loss = criterion(target,labels)\n",
        "        valid_loss = loss.item() * data.size(0)\n",
        "        \n",
        " \n",
        "\n",
        "    train_losses.append((train_loss / len(train_loader)))\n",
        "    val_losses.append((valid_loss / len(validation_loader)))\n",
        "\n",
        "\n",
        "    print(f'Epoch {e+1} \\t\\t Training Loss: {train_loss / len(train_loader)} \\t\\t Validation Loss: {valid_loss / len(validation_loader)}')\n",
        "    if min_valid_loss > valid_loss:\n",
        "        print(f'Validation Loss Decreased({min_valid_loss:.6f}--->{valid_loss:.6f}) \\t Saving The Model')\n",
        "        min_valid_loss = valid_loss\n",
        "        # Saving State Dict\n",
        "        torch.save(model.state_dict(), 'saved_model.pth')\n",
        "\n",
        "\n",
        "\n",
        " "
      ],
      "metadata": {
        "colab": {
          "base_uri": "https://localhost:8080/"
        },
        "id": "l_gXr68l5iaN",
        "outputId": "a4886045-fec1-4d1b-db9b-d0ceb3011d8b"
      },
      "execution_count": 294,
      "outputs": [
        {
          "output_type": "stream",
          "name": "stdout",
          "text": [
            "Epoch 1 \t\t Training Loss: 1.00814018708009 \t\t Validation Loss: 0.27923205319572897\n",
            "Validation Loss Decreased(inf--->4.746945) \t Saving The Model\n",
            "Epoch 2 \t\t Training Loss: 0.8162218531736961 \t\t Validation Loss: 0.12323276961550993\n",
            "Validation Loss Decreased(4.746945--->2.094957) \t Saving The Model\n",
            "Epoch 3 \t\t Training Loss: 0.7286140100314067 \t\t Validation Loss: 0.13519429985214682\n",
            "Epoch 4 \t\t Training Loss: 0.6589240285066458 \t\t Validation Loss: 0.08980825543403625\n",
            "Validation Loss Decreased(2.094957--->1.526740) \t Saving The Model\n",
            "Epoch 5 \t\t Training Loss: 0.602337158872531 \t\t Validation Loss: 0.1524283254847807\n",
            "Epoch 6 \t\t Training Loss: 0.5860052640621479 \t\t Validation Loss: 0.08216340752208934\n",
            "Validation Loss Decreased(1.526740--->1.396778) \t Saving The Model\n",
            "Epoch 7 \t\t Training Loss: 0.539998748812538 \t\t Validation Loss: 0.036843603148179895\n",
            "Validation Loss Decreased(1.396778--->0.626341) \t Saving The Model\n",
            "Epoch 8 \t\t Training Loss: 0.5260341322192779 \t\t Validation Loss: 0.060640060726334065\n",
            "Epoch 9 \t\t Training Loss: 0.4735536292768442 \t\t Validation Loss: 0.022959941450287315\n",
            "Validation Loss Decreased(0.626341--->0.390319) \t Saving The Model\n",
            "Epoch 10 \t\t Training Loss: 0.45748457238078116 \t\t Validation Loss: 0.023011999095187467\n",
            "Epoch 11 \t\t Training Loss: 0.4545991053948036 \t\t Validation Loss: 0.12817661551868215\n",
            "Epoch 12 \t\t Training Loss: 0.39873814009703124 \t\t Validation Loss: 0.13405795483028188\n",
            "Epoch 13 \t\t Training Loss: 0.351305491821124 \t\t Validation Loss: 0.04152844495633069\n",
            "Epoch 14 \t\t Training Loss: 0.331849444227723 \t\t Validation Loss: 0.009399628376259524\n",
            "Validation Loss Decreased(0.390319--->0.159794) \t Saving The Model\n",
            "Epoch 15 \t\t Training Loss: 0.33304702123770347 \t\t Validation Loss: 0.40400974890765023\n",
            "Epoch 16 \t\t Training Loss: 0.28847998349139325 \t\t Validation Loss: 0.08935693432303037\n",
            "Epoch 17 \t\t Training Loss: 0.2673429091962484 \t\t Validation Loss: 0.3964657643262078\n",
            "Epoch 18 \t\t Training Loss: 0.23428730269392523 \t\t Validation Loss: 0.6398959019604851\n",
            "Epoch 19 \t\t Training Loss: 0.23369142344722954 \t\t Validation Loss: 0.001697864876512219\n",
            "Validation Loss Decreased(0.159794--->0.028864) \t Saving The Model\n",
            "Epoch 20 \t\t Training Loss: 0.2039318172332759 \t\t Validation Loss: 0.10164151296896093\n",
            "Epoch 21 \t\t Training Loss: 0.19067127485401356 \t\t Validation Loss: 0.26325029485365925\n",
            "Epoch 22 \t\t Training Loss: 0.15295879921804253 \t\t Validation Loss: 0.0030903822249349427\n",
            "Epoch 23 \t\t Training Loss: 0.18504121376631352 \t\t Validation Loss: 0.30235592056723204\n",
            "Epoch 24 \t\t Training Loss: 0.10275746992287728 \t\t Validation Loss: 0.333861603456385\n",
            "Epoch 25 \t\t Training Loss: 0.07778959969560115 \t\t Validation Loss: 0.08134653463083155\n",
            "Epoch 26 \t\t Training Loss: 0.09083623426491753 \t\t Validation Loss: 0.03947797943564022\n",
            "Epoch 27 \t\t Training Loss: 0.08798588825649438 \t\t Validation Loss: 0.07268998991040622\n",
            "Epoch 28 \t\t Training Loss: 0.0603182258657538 \t\t Validation Loss: 0.07482607575023875\n",
            "Epoch 29 \t\t Training Loss: 0.052644523095267896 \t\t Validation Loss: 0.17444580793380737\n",
            "Epoch 30 \t\t Training Loss: 0.04552411049013384 \t\t Validation Loss: 0.12008367215885836\n",
            "Epoch 31 \t\t Training Loss: 0.03359060659422539 \t\t Validation Loss: 1.1047099618350757\n",
            "Epoch 32 \t\t Training Loss: 0.19595163324937367 \t\t Validation Loss: 0.0790057287496679\n",
            "Epoch 33 \t\t Training Loss: 0.0681237297385031 \t\t Validation Loss: 0.24155481773264267\n",
            "Epoch 34 \t\t Training Loss: 0.02506082369542967 \t\t Validation Loss: 0.26338117964127483\n",
            "Epoch 35 \t\t Training Loss: 0.013245565058269466 \t\t Validation Loss: 0.24142270579057581\n",
            "Epoch 36 \t\t Training Loss: 0.012209974490598631 \t\t Validation Loss: 0.11129908701952766\n",
            "Epoch 37 \t\t Training Loss: 0.016510781202109335 \t\t Validation Loss: 0.5203749853021958\n",
            "Epoch 38 \t\t Training Loss: 0.012227817364887764 \t\t Validation Loss: 0.20704672617070816\n",
            "Epoch 39 \t\t Training Loss: 0.00688941236053674 \t\t Validation Loss: 0.20868439884746776\n",
            "Epoch 40 \t\t Training Loss: 0.007446080621216074 \t\t Validation Loss: 0.29412045198328357\n",
            "Epoch 41 \t\t Training Loss: 0.006243922876064271 \t\t Validation Loss: 0.24414262350867777\n",
            "Epoch 42 \t\t Training Loss: 0.004615505356552883 \t\t Validation Loss: 0.22149824044283697\n",
            "Epoch 43 \t\t Training Loss: 0.0045320189428961245 \t\t Validation Loss: 0.21963789182550766\n",
            "Epoch 44 \t\t Training Loss: 0.004136789583515985 \t\t Validation Loss: 0.27901099008672375\n",
            "Epoch 45 \t\t Training Loss: 0.0038514516726046656 \t\t Validation Loss: 0.38148483809302836\n",
            "Epoch 46 \t\t Training Loss: 0.0029921224027930292 \t\t Validation Loss: 0.27108946267296286\n",
            "Epoch 47 \t\t Training Loss: 0.002853011055416433 \t\t Validation Loss: 0.26661637951346007\n",
            "Epoch 48 \t\t Training Loss: 0.0026009275553615925 \t\t Validation Loss: 0.24984116063398473\n",
            "Epoch 49 \t\t Training Loss: 0.0019810549468205025 \t\t Validation Loss: 0.25001175263348746\n",
            "Epoch 50 \t\t Training Loss: 0.0034629125764835266 \t\t Validation Loss: 0.07708310204393723\n"
          ]
        }
      ]
    },
    {
      "cell_type": "code",
      "source": [
        "import matplotlib.pyplot as plt\n",
        "plt.figure(figsize=(10,5))\n",
        "plt.title(\"Training and Validation Loss\")\n",
        "plt.plot(val_losses,label=\"val\")\n",
        "plt.plot(train_losses,label=\"train\")\n",
        "plt.legend()\n",
        "plt.show()\n",
        "\n",
        "\n",
        "print(val_losses)\n"
      ],
      "metadata": {
        "id": "GRLgvCN2BVhL",
        "colab": {
          "base_uri": "https://localhost:8080/",
          "height": 374
        },
        "outputId": "a49a2064-50d8-401d-a612-66b6ad6a79a8"
      },
      "execution_count": 295,
      "outputs": [
        {
          "output_type": "display_data",
          "data": {
            "text/plain": [
              "<Figure size 720x360 with 1 Axes>"
            ],
            "image/png": "[encoded data removed]"
          },
          "metadata": {
            "needs_background": "light"
          }
        },
        {
          "output_type": "stream",
          "name": "stdout",
          "text": [
            "[0.27923205319572897, 0.12323276961550993, 0.13519429985214682, 0.08980825543403625, 0.1524283254847807, 0.08216340752208934, 0.036843603148179895, 0.060640060726334065, 0.022959941450287315, 0.023011999095187467, 0.12817661551868215, 0.13405795483028188, 0.04152844495633069, 0.009399628376259524, 0.40400974890765023, 0.08935693432303037, 0.3964657643262078, 0.6398959019604851, 0.001697864876512219, 0.10164151296896093, 0.26325029485365925, 0.0030903822249349427, 0.30235592056723204, 0.333861603456385, 0.08134653463083155, 0.03947797943564022, 0.07268998991040622, 0.07482607575023875, 0.17444580793380737, 0.12008367215885836, 1.1047099618350757, 0.0790057287496679, 0.24155481773264267, 0.26338117964127483, 0.24142270579057581, 0.11129908701952766, 0.5203749853021958, 0.20704672617070816, 0.20868439884746776, 0.29412045198328357, 0.24414262350867777, 0.22149824044283697, 0.21963789182550766, 0.27901099008672375, 0.38148483809302836, 0.27108946267296286, 0.26661637951346007, 0.24984116063398473, 0.25001175263348746, 0.07708310204393723]\n"
          ]
        }
      ]
    },
    {
      "cell_type": "code",
      "source": [
        "train_count=len(glob.glob(train_path+'/**/*.jpg'))\n",
        "test_count=len(glob.glob(test_path+'/**/*.jpg'))"
      ],
      "metadata": {
        "id": "gTJC0YyFExtq"
      },
      "execution_count": 296,
      "outputs": []
    },
    {
      "cell_type": "code",
      "source": [
        "print(train_count,test_count)"
      ],
      "metadata": {
        "id": "hN8Op0K0Exvo",
        "colab": {
          "base_uri": "https://localhost:8080/"
        },
        "outputId": "f93801de-a489-4d8f-cd61-d26c88d9cfc7"
      },
      "execution_count": 297,
      "outputs": [
        {
          "output_type": "stream",
          "name": "stdout",
          "text": [
            "1034 128\n"
          ]
        }
      ]
    },
    {
      "cell_type": "code",
      "source": [
        "import torch\n",
        "import torch.nn as nn\n",
        "import torchvision\n",
        "import torchvision.transforms as transforms\n",
        "\n",
        "model = LeNet5(num_classes=3).to(device)\n",
        "\n",
        "#Setting the loss function\n",
        "cost = nn.CrossEntropyLoss()\n",
        "criterion = nn.CrossEntropyLoss()\n",
        "#Setting the optimizer with the model parameters and learning rate\n",
        "optimizer = torch.optim.Adam(model.parameters(), lr=learning_rate)\n",
        "\n",
        "#this is defined to print how many steps are remaining when training\n",
        "total_step = len(train_loader)"
      ],
      "metadata": {
        "id": "4JVoSK0biqcl"
      },
      "execution_count": 320,
      "outputs": []
    },
    {
      "cell_type": "code",
      "source": [
        "from sklearn.metrics import f1_score\n",
        "\n",
        "import numpy as np\n",
        "from tqdm import tqdm\n",
        "!pip install torchmetrics\n",
        "import torch \n",
        "from torchmetrics import Precision\n",
        "\n",
        "\n",
        "total_step = len(train_loader)\n",
        "for epoch in range(14):\n",
        "    for i, (images, labels) in enumerate(train_loader):  \n",
        "        images = images.to(device)\n",
        "        labels = labels.to(device)\n",
        "        \n",
        "        #Forward pass\n",
        "        outputs = model(images)\n",
        "        loss = cost(outputs, labels)\n",
        "        \t\n",
        "        # Backward and optimize\n",
        "        optimizer.zero_grad()\n",
        "        loss.backward()\n",
        "        optimizer.step()\n",
        "        \t\t\n",
        "        if (i+1) % 15 == 0:\n",
        "            print ('Epoch [{}/{}], Step [{}/{}], Loss: {:.4f}' \n",
        "        \t\t           .format(epoch+1, num_epochs, i+1, total_step, loss.item()))\n",
        "                       \n",
        "y_true = []\n",
        "y_pred = []\n",
        "\n",
        "for data in tqdm(test_loader):\n",
        "  images,labels=data[0].to(device),data[1]  \n",
        "  y_true.extend(labels.numpy())\n",
        " \n",
        "  outputs=model(images)\n",
        " \n",
        "  _, predicted = torch.max(outputs, 1)\n",
        "  y_pred.extend(predicted.cpu().numpy())\n",
        "f1_score(y_true, y_pred, average='macro')\n",
        "print(f1_score(y_true, y_pred, average='macro'))\n",
        "\n",
        "\n",
        "\n",
        "\n",
        "\n",
        "with torch.no_grad():\n",
        "    correct = 0\n",
        "    total = 0\n",
        "    for images, labels in test_loader:\n",
        "        images = images.to(device)\n",
        "        labels = labels.to(device)\n",
        "        outputs = model(images)\n",
        "        _, predicted = torch.max(outputs.data, 1)\n",
        "        total += labels.size(0)\n",
        "        correct += (predicted == labels).sum().item()\n",
        "\n",
        "    print('Accuracy of the network on the 10000 test images: {} %'.format(100 * correct / total))\n",
        "\t \n",
        "\n",
        "\n"
      ],
      "metadata": {
        "id": "BavjbA-uFaca",
        "colab": {
          "base_uri": "https://localhost:8080/"
        },
        "outputId": "00ce7b47-98a1-4405-957e-928d305a2ae2"
      },
      "execution_count": 321,
      "outputs": [
        {
          "output_type": "stream",
          "name": "stdout",
          "text": [
            "Looking in indexes: https://pypi.org/simple, https://us-python.pkg.dev/colab-wheels/public/simple/\n",
            "Requirement already satisfied: torchmetrics in /usr/local/lib/python3.7/dist-packages (0.9.3)\n",
            "Requirement already satisfied: packaging in /usr/local/lib/python3.7/dist-packages (from torchmetrics) (21.3)\n",
            "Requirement already satisfied: typing-extensions in /usr/local/lib/python3.7/dist-packages (from torchmetrics) (4.1.1)\n",
            "Requirement already satisfied: numpy>=1.17.2 in /usr/local/lib/python3.7/dist-packages (from torchmetrics) (1.21.6)\n",
            "Requirement already satisfied: torch>=1.3.1 in /usr/local/lib/python3.7/dist-packages (from torchmetrics) (1.12.1+cu113)\n",
            "Requirement already satisfied: pyparsing!=3.0.5,>=2.0.2 in /usr/local/lib/python3.7/dist-packages (from packaging->torchmetrics) (3.0.9)\n",
            "Epoch [1/10], Step [15/130], Loss: 1.0808\n",
            "Epoch [1/10], Step [30/130], Loss: 0.8960\n",
            "Epoch [1/10], Step [45/130], Loss: 0.7871\n",
            "Epoch [1/10], Step [60/130], Loss: 0.7912\n",
            "Epoch [1/10], Step [75/130], Loss: 0.8385\n",
            "Epoch [1/10], Step [90/130], Loss: 1.0665\n",
            "Epoch [1/10], Step [105/130], Loss: 0.7640\n",
            "Epoch [1/10], Step [120/130], Loss: 1.1234\n",
            "Epoch [2/10], Step [15/130], Loss: 0.4525\n",
            "Epoch [2/10], Step [30/130], Loss: 0.9269\n",
            "Epoch [2/10], Step [45/130], Loss: 0.9504\n",
            "Epoch [2/10], Step [60/130], Loss: 0.8160\n",
            "Epoch [2/10], Step [75/130], Loss: 0.6877\n",
            "Epoch [2/10], Step [90/130], Loss: 0.7133\n",
            "Epoch [2/10], Step [105/130], Loss: 0.9726\n",
            "Epoch [2/10], Step [120/130], Loss: 0.6629\n",
            "Epoch [3/10], Step [15/130], Loss: 0.8124\n",
            "Epoch [3/10], Step [30/130], Loss: 0.7354\n",
            "Epoch [3/10], Step [45/130], Loss: 0.5126\n",
            "Epoch [3/10], Step [60/130], Loss: 0.6889\n",
            "Epoch [3/10], Step [75/130], Loss: 0.4872\n",
            "Epoch [3/10], Step [90/130], Loss: 0.3866\n",
            "Epoch [3/10], Step [105/130], Loss: 0.3956\n",
            "Epoch [3/10], Step [120/130], Loss: 0.3743\n",
            "Epoch [4/10], Step [15/130], Loss: 0.4144\n",
            "Epoch [4/10], Step [30/130], Loss: 0.7934\n",
            "Epoch [4/10], Step [45/130], Loss: 0.5134\n",
            "Epoch [4/10], Step [60/130], Loss: 0.4811\n",
            "Epoch [4/10], Step [75/130], Loss: 0.6305\n",
            "Epoch [4/10], Step [90/130], Loss: 0.2763\n",
            "Epoch [4/10], Step [105/130], Loss: 0.6549\n",
            "Epoch [4/10], Step [120/130], Loss: 0.3372\n",
            "Epoch [5/10], Step [15/130], Loss: 0.2692\n",
            "Epoch [5/10], Step [30/130], Loss: 0.5360\n",
            "Epoch [5/10], Step [45/130], Loss: 0.6385\n",
            "Epoch [5/10], Step [60/130], Loss: 0.5015\n",
            "Epoch [5/10], Step [75/130], Loss: 0.4682\n",
            "Epoch [5/10], Step [90/130], Loss: 0.9695\n",
            "Epoch [5/10], Step [105/130], Loss: 0.6055\n",
            "Epoch [5/10], Step [120/130], Loss: 1.2921\n",
            "Epoch [6/10], Step [15/130], Loss: 0.4326\n",
            "Epoch [6/10], Step [30/130], Loss: 0.3467\n",
            "Epoch [6/10], Step [45/130], Loss: 0.8133\n",
            "Epoch [6/10], Step [60/130], Loss: 0.4654\n",
            "Epoch [6/10], Step [75/130], Loss: 0.5051\n",
            "Epoch [6/10], Step [90/130], Loss: 0.4655\n",
            "Epoch [6/10], Step [105/130], Loss: 0.9027\n",
            "Epoch [6/10], Step [120/130], Loss: 0.4524\n",
            "Epoch [7/10], Step [15/130], Loss: 0.3534\n",
            "Epoch [7/10], Step [30/130], Loss: 0.4752\n",
            "Epoch [7/10], Step [45/130], Loss: 0.6173\n",
            "Epoch [7/10], Step [60/130], Loss: 0.4429\n",
            "Epoch [7/10], Step [75/130], Loss: 0.2305\n",
            "Epoch [7/10], Step [90/130], Loss: 0.1217\n",
            "Epoch [7/10], Step [105/130], Loss: 0.3957\n",
            "Epoch [7/10], Step [120/130], Loss: 0.7856\n",
            "Epoch [8/10], Step [15/130], Loss: 0.4160\n",
            "Epoch [8/10], Step [30/130], Loss: 0.3798\n",
            "Epoch [8/10], Step [45/130], Loss: 0.3852\n",
            "Epoch [8/10], Step [60/130], Loss: 0.2744\n",
            "Epoch [8/10], Step [75/130], Loss: 0.4541\n",
            "Epoch [8/10], Step [90/130], Loss: 0.4343\n",
            "Epoch [8/10], Step [105/130], Loss: 0.3822\n",
            "Epoch [8/10], Step [120/130], Loss: 0.2134\n",
            "Epoch [9/10], Step [15/130], Loss: 0.2712\n",
            "Epoch [9/10], Step [30/130], Loss: 0.4546\n",
            "Epoch [9/10], Step [45/130], Loss: 0.5357\n",
            "Epoch [9/10], Step [60/130], Loss: 0.0787\n",
            "Epoch [9/10], Step [75/130], Loss: 0.3510\n",
            "Epoch [9/10], Step [90/130], Loss: 0.3822\n",
            "Epoch [9/10], Step [105/130], Loss: 0.4084\n",
            "Epoch [9/10], Step [120/130], Loss: 0.1435\n",
            "Epoch [10/10], Step [15/130], Loss: 0.4958\n",
            "Epoch [10/10], Step [30/130], Loss: 0.7196\n",
            "Epoch [10/10], Step [45/130], Loss: 0.3403\n",
            "Epoch [10/10], Step [60/130], Loss: 0.1541\n",
            "Epoch [10/10], Step [75/130], Loss: 0.5371\n",
            "Epoch [10/10], Step [90/130], Loss: 0.5240\n",
            "Epoch [10/10], Step [105/130], Loss: 0.7528\n",
            "Epoch [10/10], Step [120/130], Loss: 0.6718\n",
            "Epoch [11/10], Step [15/130], Loss: 0.1722\n",
            "Epoch [11/10], Step [30/130], Loss: 0.1549\n",
            "Epoch [11/10], Step [45/130], Loss: 0.2321\n",
            "Epoch [11/10], Step [60/130], Loss: 0.3656\n",
            "Epoch [11/10], Step [75/130], Loss: 0.2454\n",
            "Epoch [11/10], Step [90/130], Loss: 0.0545\n",
            "Epoch [11/10], Step [105/130], Loss: 0.1987\n",
            "Epoch [11/10], Step [120/130], Loss: 0.3766\n",
            "Epoch [12/10], Step [15/130], Loss: 0.2042\n",
            "Epoch [12/10], Step [30/130], Loss: 0.2057\n",
            "Epoch [12/10], Step [45/130], Loss: 0.0460\n",
            "Epoch [12/10], Step [60/130], Loss: 0.1441\n",
            "Epoch [12/10], Step [75/130], Loss: 0.2772\n",
            "Epoch [12/10], Step [90/130], Loss: 0.5383\n",
            "Epoch [12/10], Step [105/130], Loss: 0.4436\n",
            "Epoch [12/10], Step [120/130], Loss: 0.2151\n",
            "Epoch [13/10], Step [15/130], Loss: 0.7749\n",
            "Epoch [13/10], Step [30/130], Loss: 0.1058\n",
            "Epoch [13/10], Step [45/130], Loss: 0.0738\n",
            "Epoch [13/10], Step [60/130], Loss: 0.0760\n",
            "Epoch [13/10], Step [75/130], Loss: 0.5137\n",
            "Epoch [13/10], Step [90/130], Loss: 0.6209\n",
            "Epoch [13/10], Step [105/130], Loss: 0.3901\n",
            "Epoch [13/10], Step [120/130], Loss: 0.4679\n",
            "Epoch [14/10], Step [15/130], Loss: 0.1334\n",
            "Epoch [14/10], Step [30/130], Loss: 0.6351\n",
            "Epoch [14/10], Step [45/130], Loss: 0.0104\n",
            "Epoch [14/10], Step [60/130], Loss: 0.8677\n",
            "Epoch [14/10], Step [75/130], Loss: 0.0745\n",
            "Epoch [14/10], Step [90/130], Loss: 0.0603\n",
            "Epoch [14/10], Step [105/130], Loss: 0.0762\n",
            "Epoch [14/10], Step [120/130], Loss: 0.1300\n"
          ]
        },
        {
          "output_type": "stream",
          "name": "stderr",
          "text": [
            "100%|██████████| 16/16 [00:01<00:00, 15.45it/s]\n"
          ]
        },
        {
          "output_type": "stream",
          "name": "stdout",
          "text": [
            "0.8060161654094768\n",
            "Accuracy of the network on the 10000 test images: 80.46875 %\n"
          ]
        }
      ]
    },
    {
      "cell_type": "code",
      "source": [
        "import sklearn.metrics\n",
        "\n",
        "print(\"f1 score\",f1_score(y_true, y_pred, average='macro'))\n",
        "print(\"f1 score\",f1_score(y_true, y_pred, average='micro'))\n",
        "print(\"accuracy_score\",sklearn.metrics.accuracy_score(y_true, y_pred))\n",
        "print(\"balanced accuracy_score\",sklearn.metrics.balanced_accuracy_score(y_true, y_pred))\n",
        "print(\"precision_score\",sklearn.metrics.precision_score(y_true, y_pred, average='macro'))\n",
        "print(\"rECALL micro\",sklearn.metrics.recall_score(y_true, y_pred, average='micro'))\n",
        "print(\"rECALL macro\",sklearn.metrics.recall_score(y_true, y_pred, average='macro'))"
      ],
      "metadata": {
        "id": "BOIwp31KpdOh",
        "colab": {
          "base_uri": "https://localhost:8080/"
        },
        "outputId": "cac394f2-5ea5-4a59-a944-1ab307736cff"
      },
      "execution_count": 322,
      "outputs": [
        {
          "output_type": "stream",
          "name": "stdout",
          "text": [
            "f1 score 0.8060161654094768\n",
            "f1 score 0.8046875\n",
            "accuracy_score 0.8046875\n",
            "balanced accuracy_score 0.8047249907715024\n",
            "precision_score 0.8119752405466691\n",
            "rECALL micro 0.8046875\n",
            "rECALL macro 0.8047249907715024\n"
          ]
        }
      ]
    },
    {
      "cell_type": "code",
      "source": [],
      "metadata": {
        "id": "UtE4Ek92ulS4"
      },
      "execution_count": 299,
      "outputs": []
    },
    {
      "cell_type": "code",
      "source": [
        "import seaborn as sns\n",
        "from tqdm import tqdm\n",
        "import sklearn\n",
        "import numpy as np\n",
        "import pandas as pd\n",
        "import matplotlib.pyplot as plt\n",
        "from sklearn.metrics import confusion_matrix\n",
        "\n",
        "y_true = []\n",
        "y_pred = []\n",
        " \n",
        "for data in tqdm(test_loader):\n",
        "  images,labels=data[0].to(device),data[1]  \n",
        "  y_true.extend(labels.numpy())\n",
        " \n",
        "  outputs=model(images)\n",
        " \n",
        "  _, predicted = torch.max(outputs, 1)\n",
        "  y_pred.extend(predicted.cpu().numpy())\n",
        "\n",
        "\n",
        "cf_matrix = confusion_matrix(y_true, y_pred)\n",
        "\n",
        "class_names = ('angular_leaf_spot', 'bean_rust', 'healthy')\n",
        "dataframe = pd.DataFrame(cf_matrix, index=class_names, columns=class_names)\n",
        "\n",
        "\n",
        "plt.figure(figsize=(8, 6))\n",
        " \n",
        "# Create heatmap\n",
        "sns.heatmap(dataframe, annot=True, cbar=None,cmap=\"YlGnBu\",fmt=\"d\")\n",
        " \n",
        "plt.title(\"Confusion Matrix\"), plt.tight_layout()\n",
        " \n",
        "plt.ylabel(\"True Class\"), \n",
        "plt.xlabel(\"Predicted Class\")\n",
        "plt.show()"
      ],
      "metadata": {
        "id": "Ao5P7GQaE3L4",
        "colab": {
          "base_uri": "https://localhost:8080/",
          "height": 473
        },
        "outputId": "8c1c0475-6e52-4b2a-fd38-2bbb65c03414"
      },
      "execution_count": 323,
      "outputs": [
        {
          "output_type": "stream",
          "name": "stderr",
          "text": [
            "100%|██████████| 16/16 [00:01<00:00, 15.72it/s]\n"
          ]
        },
        {
          "output_type": "display_data",
          "data": {
            "text/plain": [
              "<Figure size 576x432 with 1 Axes>"
            ],
            "image/png": "[encoded data removed]"
          },
          "metadata": {
            "needs_background": "light"
          }
        }
      ]
    }
  ]
}