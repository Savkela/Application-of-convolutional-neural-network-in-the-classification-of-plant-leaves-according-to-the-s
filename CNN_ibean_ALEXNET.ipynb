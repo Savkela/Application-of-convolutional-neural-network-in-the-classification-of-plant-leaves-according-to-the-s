{
  "nbformat": 4,
  "nbformat_minor": 0,
  "metadata": {
    "colab": {
      "provenance": []
    },
    "kernelspec": {
      "name": "python3",
      "display_name": "Python 3"
    },
    "language_info": {
      "name": "python"
    },
    "accelerator": "GPU"
  },
  "cells": [
    {
      "cell_type": "code",
      "execution_count": 129,
      "metadata": {
        "id": "pUdV_vJBwSZV"
      },
      "outputs": [],
      "source": [
        "import os\n",
        "import numpy as np\n",
        "import torch\n",
        "import glob\n",
        "import torch.nn as nn\n",
        "from torchvision.transforms import transforms\n",
        "from torch.utils.data import DataLoader\n",
        "from torch.optim import Adam\n",
        "from torch.autograd import Variable\n",
        "import torchvision\n",
        "import pathlib\n",
        "from torchvision import datasets\n",
        "from torchvision import transforms\n",
        "from torch.utils.data.sampler import SubsetRandomSampler"
      ]
    },
    {
      "cell_type": "code",
      "source": [
        "device=torch.device('cuda' if torch.cuda.is_available() else 'cpu')"
      ],
      "metadata": {
        "id": "r6aoSFCtyBtt"
      },
      "execution_count": 130,
      "outputs": []
    },
    {
      "cell_type": "code",
      "source": [
        "print(device)"
      ],
      "metadata": {
        "colab": {
          "base_uri": "https://localhost:8080/"
        },
        "id": "6gDpyZGyyBvu",
        "outputId": "176b9b03-00b3-4668-d4cf-4859649c90d7"
      },
      "execution_count": 131,
      "outputs": [
        {
          "output_type": "stream",
          "name": "stdout",
          "text": [
            "cuda\n"
          ]
        }
      ]
    },
    {
      "cell_type": "code",
      "source": [
        "from google.colab import drive\n",
        "drive.mount('/content/test')\n"
      ],
      "metadata": {
        "colab": {
          "base_uri": "https://localhost:8080/"
        },
        "id": "NEzkJ8kOyBx1",
        "outputId": "7c715635-834e-43ac-bdf7-ec80cf53d448"
      },
      "execution_count": 132,
      "outputs": [
        {
          "output_type": "stream",
          "name": "stdout",
          "text": [
            "Drive already mounted at /content/test; to attempt to forcibly remount, call drive.mount(\"/content/test\", force_remount=True).\n"
          ]
        }
      ]
    },
    {
      "cell_type": "code",
      "source": [
        "transformer=transforms.Compose([\n",
        "    transforms.Resize((227,227)),\n",
        "    transforms.ToTensor(),\n",
        "    transforms.Normalize([0.5,0.5,0.5], # 0-1 to [-1,1] , formula (x-mean)/std\n",
        "                        [0.5,0.5,0.5])\n",
        "])"
      ],
      "metadata": {
        "id": "o9Cc27MuyBz8"
      },
      "execution_count": 133,
      "outputs": []
    },
    {
      "cell_type": "code",
      "source": [
        "batch_size = 16\n",
        "num_classes = 3\n",
        "learning_rate = 0.001\n",
        "num_epochs = 10"
      ],
      "metadata": {
        "id": "vMdE4d_KyB2O"
      },
      "execution_count": 134,
      "outputs": []
    },
    {
      "cell_type": "code",
      "source": [
        "train_path='/content/test/MyDrive/train'\n",
        "test_path='/content/test/MyDrive/test'\n",
        "validation_path = '/content/test/MyDrive/validation'\n",
        "\n",
        "train_loader=DataLoader(\n",
        "    torchvision.datasets.ImageFolder(train_path,transform=transformer),\n",
        "    batch_size=16, shuffle=True\n",
        ")\n",
        "test_loader=DataLoader(\n",
        "    torchvision.datasets.ImageFolder(test_path,transform=transformer),\n",
        "    batch_size=16, shuffle=True\n",
        ")\n",
        "\n",
        "validation_loader=DataLoader(\n",
        "    torchvision.datasets.ImageFolder(validation_path,transform=transformer),\n",
        "    batch_size=16, shuffle=True\n",
        ")"
      ],
      "metadata": {
        "id": "2b_6Z7jWyB4H"
      },
      "execution_count": 135,
      "outputs": []
    },
    {
      "cell_type": "code",
      "source": [
        "test_loader.dataset[0][0].shape"
      ],
      "metadata": {
        "colab": {
          "base_uri": "https://localhost:8080/"
        },
        "id": "niMLhre_yB6G",
        "outputId": "4dbb8d8b-7431-4823-b1c8-e178f83691d9"
      },
      "execution_count": 136,
      "outputs": [
        {
          "output_type": "execute_result",
          "data": {
            "text/plain": [
              "torch.Size([3, 227, 227])"
            ]
          },
          "metadata": {},
          "execution_count": 136
        }
      ]
    },
    {
      "cell_type": "code",
      "source": [
        "root=pathlib.Path(train_path)\n",
        "classes=sorted([j.name.split('/')[-1] for j in root.iterdir()])"
      ],
      "metadata": {
        "id": "mWH4WdnbyB8K"
      },
      "execution_count": 137,
      "outputs": []
    },
    {
      "cell_type": "code",
      "source": [
        "print(classes)"
      ],
      "metadata": {
        "colab": {
          "base_uri": "https://localhost:8080/"
        },
        "id": "A8GEiPuryMfe",
        "outputId": "5f7bb7c4-e436-47b5-f3f3-b35eae707a96"
      },
      "execution_count": 138,
      "outputs": [
        {
          "output_type": "stream",
          "name": "stdout",
          "text": [
            "['angular_leaf_spot', 'bean_rust', 'healthy']\n"
          ]
        }
      ]
    },
    {
      "cell_type": "code",
      "source": [
        "class AlexNet(nn.Module):\n",
        "    def __init__(self, num_classes=10):\n",
        "        super(AlexNet, self).__init__()\n",
        "        self.layer1 = nn.Sequential(\n",
        "            nn.Conv2d(3, 96, kernel_size=11, stride=4, padding=0),\n",
        "            nn.BatchNorm2d(96),\n",
        "            nn.ReLU(),\n",
        "            nn.MaxPool2d(kernel_size = 3, stride = 2))\n",
        "        self.layer2 = nn.Sequential(\n",
        "            nn.Conv2d(96, 256, kernel_size=5, stride=1, padding=2),\n",
        "            nn.BatchNorm2d(256),\n",
        "            nn.ReLU(),\n",
        "            nn.MaxPool2d(kernel_size = 3, stride = 2))\n",
        "        self.layer3 = nn.Sequential(\n",
        "            nn.Conv2d(256, 384, kernel_size=3, stride=1, padding=1),\n",
        "            nn.BatchNorm2d(384),\n",
        "            nn.ReLU())\n",
        "        self.layer4 = nn.Sequential(\n",
        "            nn.Conv2d(384, 384, kernel_size=3, stride=1, padding=1),\n",
        "            nn.BatchNorm2d(384),\n",
        "            nn.ReLU())\n",
        "        self.layer5 = nn.Sequential(\n",
        "            nn.Conv2d(384, 256, kernel_size=3, stride=1, padding=1),\n",
        "            nn.BatchNorm2d(256),\n",
        "            nn.ReLU(),\n",
        "            nn.MaxPool2d(kernel_size = 3, stride = 2))\n",
        "        self.fc = nn.Sequential(\n",
        "            nn.Dropout(0.5),\n",
        "            nn.Linear(9216, 4096),\n",
        "            nn.ReLU())\n",
        "        self.fc1 = nn.Sequential(\n",
        "            nn.Dropout(0.5),\n",
        "            nn.Linear(4096, 4096),\n",
        "            nn.ReLU())\n",
        "        self.fc2= nn.Sequential(\n",
        "            nn.Linear(4096, num_classes))\n",
        "        \n",
        "    def forward(self, x):\n",
        "        out = self.layer1(x)\n",
        "        out = self.layer2(out)\n",
        "        out = self.layer3(out)\n",
        "        out = self.layer4(out)\n",
        "        out = self.layer5(out)\n",
        "        out = out.reshape(out.size(0), -1)\n",
        "        out = self.fc(out)\n",
        "        out = self.fc1(out)\n",
        "        out = self.fc2(out)\n",
        "        return out"
      ],
      "metadata": {
        "id": "cRURt1feyNOt"
      },
      "execution_count": 139,
      "outputs": []
    },
    {
      "cell_type": "code",
      "source": [
        "import torch\n",
        "import torch.nn as nn\n",
        "import torchvision\n",
        "import torchvision.transforms as transforms\n",
        "\n",
        "model = AlexNet(num_classes).to(device)\n",
        "\n",
        "#Setting the loss function\n",
        "cost = nn.CrossEntropyLoss()\n",
        "criterion = nn.CrossEntropyLoss()\n",
        "#Setting the optimizer with the model parameters and learning rate\n",
        "optimizer = torch.optim.Adam(model.parameters(), lr=learning_rate)\n",
        "\n",
        "#this is defined to print how many steps are remaining when training\n",
        "total_step = len(train_loader)"
      ],
      "metadata": {
        "id": "3iuQl0A0PG-p"
      },
      "execution_count": 140,
      "outputs": []
    },
    {
      "cell_type": "code",
      "source": [
        "import numpy as np\n",
        "epochs = 30\n",
        "min_valid_loss = np.inf\n",
        "val_losses = []\n",
        "train_losses = []\n",
        "for e in range(epochs):\n",
        "    train_loss = 0.0\n",
        "    model.train()     # Optional when not using Model Specific layer\n",
        "    for data, labels in train_loader:\n",
        "        if torch.cuda.is_available():\n",
        "            data, labels = data.cuda(), labels.cuda()\n",
        "        \n",
        "        optimizer.zero_grad()\n",
        "        target = model(data)\n",
        "        loss = criterion(target,labels)\n",
        "        loss.backward()\n",
        "        optimizer.step()\n",
        "        train_loss += loss.item()\n",
        "    \n",
        "    valid_loss = 0.0\n",
        "  \n",
        "\n",
        "    model.eval()     # Optional when not using Model Specific layer\n",
        "    for data, labels in validation_loader:\n",
        "        if torch.cuda.is_available():\n",
        "            data, labels = data.cuda(), labels.cuda()\n",
        "        \n",
        "        target = model(data)\n",
        "        loss = criterion(target,labels)\n",
        "        valid_loss = loss.item() * data.size(0)\n",
        "        \n",
        " \n",
        "\n",
        "    train_losses.append((train_loss / len(train_loader)))\n",
        "    val_losses.append((valid_loss / len(validation_loader)))\n",
        "\n",
        "\n",
        "    print(f'Epoch {e+1} \\t\\t Training Loss: {train_loss / len(train_loader)} \\t\\t Validation Loss: {valid_loss / len(validation_loader)}')\n",
        "    if min_valid_loss > valid_loss:\n",
        "        print(f'Validation Loss Decreased({min_valid_loss:.6f}--->{valid_loss:.6f}) \\t Saving The Model')\n",
        "        min_valid_loss = valid_loss\n",
        "        # Saving State Dict\n",
        "        torch.save(model.state_dict(), 'saved_model.pth')\n"
      ],
      "metadata": {
        "colab": {
          "base_uri": "https://localhost:8080/"
        },
        "id": "AiSQoWbZoUvw",
        "outputId": "5e219d07-d202-4063-cf20-451d67e6f55b"
      },
      "execution_count": 141,
      "outputs": [
        {
          "output_type": "stream",
          "name": "stdout",
          "text": [
            "Epoch 1 \t\t Training Loss: 2.7757191923948437 \t\t Validation Loss: 0.6492822700076633\n",
            "Validation Loss Decreased(inf--->5.843540) \t Saving The Model\n",
            "Epoch 2 \t\t Training Loss: 0.985345184803009 \t\t Validation Loss: 0.5811279349856906\n",
            "Validation Loss Decreased(5.843540--->5.230151) \t Saving The Model\n",
            "Epoch 3 \t\t Training Loss: 0.9487640179120578 \t\t Validation Loss: 0.48085106743706596\n",
            "Validation Loss Decreased(5.230151--->4.327660) \t Saving The Model\n",
            "Epoch 4 \t\t Training Loss: 0.8585895740068876 \t\t Validation Loss: 0.10394360456201765\n",
            "Validation Loss Decreased(4.327660--->0.935492) \t Saving The Model\n",
            "Epoch 5 \t\t Training Loss: 0.7757912709162785 \t\t Validation Loss: 0.5527899000379775\n",
            "Epoch 6 \t\t Training Loss: 0.7303199121585259 \t\t Validation Loss: 0.24610143568780687\n",
            "Epoch 7 \t\t Training Loss: 0.7474796214928994 \t\t Validation Loss: 0.18722416626082528\n",
            "Epoch 8 \t\t Training Loss: 0.7310443738332162 \t\t Validation Loss: 0.25856415430704754\n",
            "Epoch 9 \t\t Training Loss: 0.7271936882000704 \t\t Validation Loss: 0.5445379018783569\n",
            "Epoch 10 \t\t Training Loss: 0.6359446956561162 \t\t Validation Loss: 0.4192182421684265\n",
            "Epoch 11 \t\t Training Loss: 0.6251700084943038 \t\t Validation Loss: 0.15502345230844286\n",
            "Epoch 12 \t\t Training Loss: 0.5337455336864178 \t\t Validation Loss: 0.4164063599374559\n",
            "Epoch 13 \t\t Training Loss: 0.5851755536519564 \t\t Validation Loss: 0.05729177759753333\n",
            "Validation Loss Decreased(0.935492--->0.515626) \t Saving The Model\n",
            "Epoch 14 \t\t Training Loss: 0.521068937274126 \t\t Validation Loss: 0.2369598216480679\n",
            "Epoch 15 \t\t Training Loss: 0.5031758393232639 \t\t Validation Loss: 0.719720721244812\n",
            "Epoch 16 \t\t Training Loss: 0.5018312574579166 \t\t Validation Loss: 0.3931185272004869\n",
            "Epoch 17 \t\t Training Loss: 0.44029016746924476 \t\t Validation Loss: 0.20631442467371622\n",
            "Epoch 18 \t\t Training Loss: 0.4500279015646531 \t\t Validation Loss: 0.16750824120309618\n",
            "Epoch 19 \t\t Training Loss: 0.44107186565032375 \t\t Validation Loss: 0.22004630830552843\n",
            "Epoch 20 \t\t Training Loss: 0.42328885902579017 \t\t Validation Loss: 0.2898605333434211\n",
            "Epoch 21 \t\t Training Loss: 0.41355983912944794 \t\t Validation Loss: 0.16434884733623928\n",
            "Epoch 22 \t\t Training Loss: 0.4236928836657451 \t\t Validation Loss: 0.2599984241856469\n",
            "Epoch 23 \t\t Training Loss: 0.4073374434732474 \t\t Validation Loss: 0.2420746452278561\n",
            "Epoch 24 \t\t Training Loss: 0.388085477741865 \t\t Validation Loss: 0.3235928879843818\n",
            "Epoch 25 \t\t Training Loss: 0.35130155097979765 \t\t Validation Loss: 0.022655742035971746\n",
            "Validation Loss Decreased(0.515626--->0.203902) \t Saving The Model\n",
            "Epoch 26 \t\t Training Loss: 0.36521780645618074 \t\t Validation Loss: 0.14559474256303576\n",
            "Epoch 27 \t\t Training Loss: 0.33609554664446756 \t\t Validation Loss: 0.0927271114455329\n",
            "Epoch 28 \t\t Training Loss: 0.2861304496916441 \t\t Validation Loss: 0.35369141234291923\n",
            "Epoch 29 \t\t Training Loss: 0.27957233669093023 \t\t Validation Loss: 0.37876003318362766\n",
            "Epoch 30 \t\t Training Loss: 0.3160710334777832 \t\t Validation Loss: 0.1675872670279609\n"
          ]
        }
      ]
    },
    {
      "cell_type": "code",
      "source": [
        "import matplotlib.pyplot as plt\n",
        "plt.figure(figsize=(10,5))\n",
        "plt.title(\"Training and Validation Loss\")\n",
        "plt.plot(val_losses,label=\"val\")\n",
        "plt.plot(train_losses,label=\"train\")\n",
        "plt.legend()\n",
        "plt.show()\n",
        "\n",
        "\n",
        "print(val_losses)"
      ],
      "metadata": {
        "colab": {
          "base_uri": "https://localhost:8080/",
          "height": 374
        },
        "id": "kLcb1TidoX-t",
        "outputId": "d0b71317-9eee-4d98-fbdb-39593708dc44"
      },
      "execution_count": 142,
      "outputs": [
        {
          "output_type": "display_data",
          "data": {
            "text/plain": [
              "<Figure size 720x360 with 1 Axes>"
            ],
            "image/png": "[encoded data removed]"
          },
          "metadata": {
            "needs_background": "light"
          }
        },
        {
          "output_type": "stream",
          "name": "stdout",
          "text": [
            "[0.6492822700076633, 0.5811279349856906, 0.48085106743706596, 0.10394360456201765, 0.5527899000379775, 0.24610143568780687, 0.18722416626082528, 0.25856415430704754, 0.5445379018783569, 0.4192182421684265, 0.15502345230844286, 0.4164063599374559, 0.05729177759753333, 0.2369598216480679, 0.719720721244812, 0.3931185272004869, 0.20631442467371622, 0.16750824120309618, 0.22004630830552843, 0.2898605333434211, 0.16434884733623928, 0.2599984241856469, 0.2420746452278561, 0.3235928879843818, 0.022655742035971746, 0.14559474256303576, 0.0927271114455329, 0.35369141234291923, 0.37876003318362766, 0.1675872670279609]\n"
          ]
        }
      ]
    },
    {
      "cell_type": "code",
      "source": [
        "train_count=len(glob.glob(train_path+'/**/*.jpg'))\n",
        "test_count=len(glob.glob(test_path+'/**/*.jpg'))"
      ],
      "metadata": {
        "id": "640urCerPHBL"
      },
      "execution_count": 143,
      "outputs": []
    },
    {
      "cell_type": "code",
      "source": [
        "print(train_count,test_count)"
      ],
      "metadata": {
        "colab": {
          "base_uri": "https://localhost:8080/"
        },
        "id": "5I2B73PjPHDi",
        "outputId": "7fb0f125-129a-41b8-e3e7-a07d33ad23f4"
      },
      "execution_count": 144,
      "outputs": [
        {
          "output_type": "stream",
          "name": "stdout",
          "text": [
            "1034 128\n"
          ]
        }
      ]
    },
    {
      "cell_type": "code",
      "source": [
        "import torch\n",
        "import torch.nn as nn\n",
        "import torchvision\n",
        "import torchvision.transforms as transforms\n",
        "\n",
        "model = AlexNet(num_classes=3).to(device)\n",
        "\n",
        "#Setting the loss function\n",
        "cost = nn.CrossEntropyLoss()\n",
        "criterion = nn.CrossEntropyLoss()\n",
        "#Setting the optimizer with the model parameters and learning rate\n",
        "optimizer = torch.optim.Adam(model.parameters(), lr=learning_rate)\n",
        "\n",
        "#this is defined to print how many steps are remaining when training\n",
        "total_step = len(train_loader)"
      ],
      "metadata": {
        "id": "JK3HHBEyocHm"
      },
      "execution_count": 145,
      "outputs": []
    },
    {
      "cell_type": "code",
      "source": [
        "from sklearn.metrics import f1_score\n",
        "import numpy as np\n",
        "from tqdm import tqdm\n",
        "\n",
        "total_step = len(train_loader)\n",
        "for epoch in range(13):\n",
        "    for i, (images, labels) in enumerate(train_loader):  \n",
        "        images = images.to(device)\n",
        "        labels = labels.to(device)\n",
        "        \n",
        "        #Forward pass\n",
        "        outputs = model(images)\n",
        "        loss = cost(outputs, labels)\n",
        "        \t\n",
        "        # Backward and optimize\n",
        "        optimizer.zero_grad()\n",
        "        loss.backward()\n",
        "        optimizer.step()\n",
        "        \t\t\n",
        "        if (i+1) % 15 == 0:\n",
        "            print ('Epoch [{}/{}], Step [{}/{}], Loss: {:.4f}' \n",
        "        \t\t           .format(epoch+1, 7, i+1, total_step, loss.item()))\n",
        "                       \n",
        "y_true = []\n",
        "y_pred = []\n",
        "\n",
        "for data in tqdm(test_loader):\n",
        "  images,labels=data[0].to(device),data[1]  \n",
        "  y_true.extend(labels.numpy())\n",
        " \n",
        "  outputs=model(images)\n",
        " \n",
        "  _, predicted = torch.max(outputs, 1)\n",
        "  y_pred.extend(predicted.cpu().numpy())\n",
        "f1_score(y_true, y_pred, average='macro')\n",
        "print(f1_score(y_true, y_pred, average='macro'))\n",
        "\n",
        "with torch.no_grad():\n",
        "    correct = 0\n",
        "    total = 0\n",
        "    for images, labels in test_loader:\n",
        "        images = images.to(device)\n",
        "        labels = labels.to(device)\n",
        "        outputs = model(images)\n",
        "        _, predicted = torch.max(outputs.data, 1)\n",
        "        total += labels.size(0)\n",
        "        correct += (predicted == labels).sum().item()\n",
        "\n",
        "    print('Accuracy of the network on the 10000 test images: {} %'.format(100 * correct / total))\n",
        "\t "
      ],
      "metadata": {
        "colab": {
          "base_uri": "https://localhost:8080/"
        },
        "id": "MORFLre9PHGC",
        "outputId": "8f54fb84-4de5-4346-cd23-bc6f2385e026"
      },
      "execution_count": 147,
      "outputs": [
        {
          "output_type": "stream",
          "name": "stdout",
          "text": [
            "Epoch [1/7], Step [15/65], Loss: 1.0471\n",
            "Epoch [1/7], Step [30/65], Loss: 0.7241\n",
            "Epoch [1/7], Step [45/65], Loss: 0.7761\n",
            "Epoch [1/7], Step [60/65], Loss: 0.8231\n",
            "Epoch [2/7], Step [15/65], Loss: 0.3817\n",
            "Epoch [2/7], Step [30/65], Loss: 0.6227\n",
            "Epoch [2/7], Step [45/65], Loss: 0.6521\n",
            "Epoch [2/7], Step [60/65], Loss: 0.5989\n",
            "Epoch [3/7], Step [15/65], Loss: 0.4763\n",
            "Epoch [3/7], Step [30/65], Loss: 0.6224\n",
            "Epoch [3/7], Step [45/65], Loss: 0.4828\n",
            "Epoch [3/7], Step [60/65], Loss: 0.8773\n",
            "Epoch [4/7], Step [15/65], Loss: 0.8447\n",
            "Epoch [4/7], Step [30/65], Loss: 0.5650\n",
            "Epoch [4/7], Step [45/65], Loss: 0.6077\n",
            "Epoch [4/7], Step [60/65], Loss: 0.4720\n",
            "Epoch [5/7], Step [15/65], Loss: 0.5481\n",
            "Epoch [5/7], Step [30/65], Loss: 0.3945\n",
            "Epoch [5/7], Step [45/65], Loss: 0.9499\n",
            "Epoch [5/7], Step [60/65], Loss: 0.5338\n",
            "Epoch [6/7], Step [15/65], Loss: 0.7220\n",
            "Epoch [6/7], Step [30/65], Loss: 0.5706\n",
            "Epoch [6/7], Step [45/65], Loss: 0.5254\n",
            "Epoch [6/7], Step [60/65], Loss: 0.6450\n",
            "Epoch [7/7], Step [15/65], Loss: 0.6048\n",
            "Epoch [7/7], Step [30/65], Loss: 0.5438\n",
            "Epoch [7/7], Step [45/65], Loss: 0.5479\n",
            "Epoch [7/7], Step [60/65], Loss: 0.2634\n",
            "Epoch [8/7], Step [15/65], Loss: 0.8188\n",
            "Epoch [8/7], Step [30/65], Loss: 0.5888\n",
            "Epoch [8/7], Step [45/65], Loss: 2.0467\n",
            "Epoch [8/7], Step [60/65], Loss: 0.4607\n",
            "Epoch [9/7], Step [15/65], Loss: 0.5156\n",
            "Epoch [9/7], Step [30/65], Loss: 0.8069\n",
            "Epoch [9/7], Step [45/65], Loss: 0.4799\n",
            "Epoch [9/7], Step [60/65], Loss: 0.7882\n",
            "Epoch [10/7], Step [15/65], Loss: 0.5293\n",
            "Epoch [10/7], Step [30/65], Loss: 0.3725\n",
            "Epoch [10/7], Step [45/65], Loss: 0.5773\n",
            "Epoch [10/7], Step [60/65], Loss: 0.5507\n",
            "Epoch [11/7], Step [15/65], Loss: 0.8900\n",
            "Epoch [11/7], Step [30/65], Loss: 1.7100\n",
            "Epoch [11/7], Step [45/65], Loss: 0.4711\n",
            "Epoch [11/7], Step [60/65], Loss: 1.3064\n",
            "Epoch [12/7], Step [15/65], Loss: 0.2078\n",
            "Epoch [12/7], Step [30/65], Loss: 0.7000\n",
            "Epoch [12/7], Step [45/65], Loss: 0.5718\n",
            "Epoch [12/7], Step [60/65], Loss: 0.9069\n",
            "Epoch [13/7], Step [15/65], Loss: 0.7855\n",
            "Epoch [13/7], Step [30/65], Loss: 0.4640\n",
            "Epoch [13/7], Step [45/65], Loss: 0.7141\n",
            "Epoch [13/7], Step [60/65], Loss: 0.2478\n"
          ]
        },
        {
          "output_type": "stream",
          "name": "stderr",
          "text": [
            "100%|██████████| 8/8 [00:01<00:00,  6.17it/s]\n"
          ]
        },
        {
          "output_type": "stream",
          "name": "stdout",
          "text": [
            "0.8192588438290347\n",
            "Accuracy of the network on the 10000 test images: 82.03125 %\n"
          ]
        }
      ]
    },
    {
      "cell_type": "code",
      "source": [
        "import sklearn.metrics\n",
        "\n",
        "print(\"f1 score\",f1_score(y_true, y_pred, average='macro'))\n",
        "print(\"f1 score\",f1_score(y_true, y_pred, average='micro'))\n",
        "print(\"accuracy_score\",sklearn.metrics.accuracy_score(y_true, y_pred))\n",
        "print(\"balanced accuracy_score\",sklearn.metrics.balanced_accuracy_score(y_true, y_pred))\n",
        "print(\"precision_score\",sklearn.metrics.precision_score(y_true, y_pred, average='macro'))\n",
        "print(\"rECALL micro\",sklearn.metrics.recall_score(y_true, y_pred, average='micro'))\n",
        "print(\"rECALL macro\",sklearn.metrics.recall_score(y_true, y_pred, average='macro'))"
      ],
      "metadata": {
        "colab": {
          "base_uri": "https://localhost:8080/"
        },
        "id": "y9roftt_0Lhj",
        "outputId": "514c0f9a-c368-41bf-dabb-7d4454d4bf51"
      },
      "execution_count": 148,
      "outputs": [
        {
          "output_type": "stream",
          "name": "stdout",
          "text": [
            "f1 score 0.8192588438290347\n",
            "f1 score 0.8203125\n",
            "accuracy_score 0.8203125\n",
            "balanced accuracy_score 0.8207825765965301\n",
            "precision_score 0.8190131124913734\n",
            "rECALL micro 0.8203125\n",
            "rECALL macro 0.8207825765965301\n"
          ]
        }
      ]
    },
    {
      "cell_type": "code",
      "source": [
        "import seaborn as sns\n",
        "from tqdm import tqdm\n",
        "import sklearn\n",
        "import numpy as np\n",
        "import pandas as pd\n",
        "import matplotlib.pyplot as plt\n",
        "from sklearn.metrics import confusion_matrix\n",
        "\n",
        "y_true = []\n",
        "y_pred = []\n",
        " \n",
        "for data in tqdm(test_loader):\n",
        "  images,labels=data[0].to(device),data[1]  \n",
        "  y_true.extend(labels.numpy())\n",
        " \n",
        "  outputs=model(images)\n",
        " \n",
        "  _, predicted = torch.max(outputs, 1)\n",
        "  y_pred.extend(predicted.cpu().numpy())\n",
        "\n",
        "\n",
        "cf_matrix = confusion_matrix(y_true, y_pred)\n",
        "\n",
        "class_names = ('angular_leaf_spot', 'bean_rust', 'healthy')\n",
        "dataframe = pd.DataFrame(cf_matrix, index=class_names, columns=class_names)\n",
        "\n",
        "\n",
        "plt.figure(figsize=(8, 6))\n",
        " \n",
        "# Create heatmap\n",
        "sns.heatmap(dataframe, annot=True, cbar=None,cmap=\"YlGnBu\",fmt=\"d\")\n",
        " \n",
        "plt.title(\"Confusion Matrix\"), plt.tight_layout()\n",
        " \n",
        "plt.ylabel(\"True Class\"), \n",
        "plt.xlabel(\"Predicted Class\")\n",
        "plt.show()"
      ],
      "metadata": {
        "colab": {
          "base_uri": "https://localhost:8080/",
          "height": 473
        },
        "id": "fwKiZPEFPHIc",
        "outputId": "5525fb6e-6f3f-4ec8-f1a7-929f9d834d9a"
      },
      "execution_count": 149,
      "outputs": [
        {
          "output_type": "stream",
          "name": "stderr",
          "text": [
            "100%|██████████| 8/8 [00:01<00:00,  5.93it/s]\n"
          ]
        },
        {
          "output_type": "display_data",
          "data": {
            "text/plain": [
              "<Figure size 576x432 with 1 Axes>"
            ],
            "image/png": "[encoded data removed]"
          },
          "metadata": {
            "needs_background": "light"
          }
        }
      ]
    }
  ]
}