{
  "nbformat": 4,
  "nbformat_minor": 0,
  "metadata": {
    "colab": {
      "provenance": []
    },
    "kernelspec": {
      "name": "python3",
      "display_name": "Python 3"
    },
    "language_info": {
      "name": "python"
    },
    "accelerator": "GPU"
  },
  "cells": [
    {
      "cell_type": "code",
      "execution_count": 181,
      "metadata": {
        "id": "Ez02Eh-XGQ70"
      },
      "outputs": [],
      "source": [
        "import os\n",
        "import numpy as np\n",
        "import torch\n",
        "import glob\n",
        "import torch.nn as nn\n",
        "from torchvision.transforms import transforms\n",
        "from torch.utils.data import DataLoader\n",
        "from torch.optim import Adam\n",
        "from torch.autograd import Variable\n",
        "import torchvision\n",
        "import pathlib\n",
        "from torchvision import datasets\n",
        "from torchvision import transforms\n",
        "from torch.utils.data.sampler import SubsetRandomSampler"
      ]
    },
    {
      "cell_type": "code",
      "source": [
        "device=torch.device('cuda' if torch.cuda.is_available() else 'cpu')"
      ],
      "metadata": {
        "id": "F-Mv4EPkH4dt"
      },
      "execution_count": 182,
      "outputs": []
    },
    {
      "cell_type": "code",
      "source": [
        "print(device)"
      ],
      "metadata": {
        "id": "bhzCQaZ5H4g1",
        "colab": {
          "base_uri": "https://localhost:8080/"
        },
        "outputId": "e921bf59-0820-4880-f62e-abb59ddda87e"
      },
      "execution_count": 183,
      "outputs": [
        {
          "output_type": "stream",
          "name": "stdout",
          "text": [
            "cuda\n"
          ]
        }
      ]
    },
    {
      "cell_type": "code",
      "source": [
        "from google.colab import drive\n",
        "drive.mount('/content/test')"
      ],
      "metadata": {
        "id": "0in2e0XjH4jW",
        "colab": {
          "base_uri": "https://localhost:8080/"
        },
        "outputId": "ebc0241d-171c-4f0e-c56a-a9bfd7f1a10d"
      },
      "execution_count": 184,
      "outputs": [
        {
          "output_type": "stream",
          "name": "stdout",
          "text": [
            "Drive already mounted at /content/test; to attempt to forcibly remount, call drive.mount(\"/content/test\", force_remount=True).\n"
          ]
        }
      ]
    },
    {
      "cell_type": "code",
      "source": [
        "transformer=transforms.Compose([\n",
        "    transforms.Resize((128,128)),\n",
        "    transforms.ToTensor(),\n",
        "    transforms.Normalize([0.5,0.5,0.5], # 0-1 to [-1,1] , formula (x-mean)/std\n",
        "                        [0.5,0.5,0.5])\n",
        "])"
      ],
      "metadata": {
        "id": "sc4U56vrH4mF"
      },
      "execution_count": 185,
      "outputs": []
    },
    {
      "cell_type": "code",
      "source": [
        "batch_size = 32\n",
        "num_classes = 3\n",
        "learning_rate = 0.001\n",
        "num_epochs = 10"
      ],
      "metadata": {
        "id": "Go0cM2FqH4o1"
      },
      "execution_count": 186,
      "outputs": []
    },
    {
      "cell_type": "code",
      "source": [
        "train_path='/content/test/MyDrive/train'\n",
        "test_path='/content/test/MyDrive/test'\n",
        "validation_path = '/content/test/MyDrive/validation'\n",
        "\n",
        "train_loader=DataLoader(\n",
        "    torchvision.datasets.ImageFolder(train_path,transform=transformer),\n",
        "    batch_size=32, shuffle=True\n",
        ")\n",
        "test_loader=DataLoader(\n",
        "    torchvision.datasets.ImageFolder(test_path,transform=transformer),\n",
        "    batch_size=32, shuffle=True\n",
        ")\n",
        "\n",
        "validation_loader=DataLoader(\n",
        "    torchvision.datasets.ImageFolder(validation_path,transform=transformer),\n",
        "    batch_size=32, shuffle=True\n",
        ")"
      ],
      "metadata": {
        "id": "FxGCNHyjH4qu"
      },
      "execution_count": 187,
      "outputs": []
    },
    {
      "cell_type": "code",
      "source": [
        "test_loader.dataset[0][0].shape"
      ],
      "metadata": {
        "id": "nxlDKr2rH4tN",
        "colab": {
          "base_uri": "https://localhost:8080/"
        },
        "outputId": "6d673c3b-bb37-4702-a494-4a26a59f6ccb"
      },
      "execution_count": 188,
      "outputs": [
        {
          "output_type": "execute_result",
          "data": {
            "text/plain": [
              "torch.Size([3, 128, 128])"
            ]
          },
          "metadata": {},
          "execution_count": 188
        }
      ]
    },
    {
      "cell_type": "code",
      "source": [
        "root=pathlib.Path(train_path)\n",
        "classes=sorted([j.name.split('/')[-1] for j in root.iterdir()])"
      ],
      "metadata": {
        "id": "UPxpNux4H-wd"
      },
      "execution_count": 189,
      "outputs": []
    },
    {
      "cell_type": "code",
      "source": [
        "print(classes)"
      ],
      "metadata": {
        "id": "ZpAk0OXjH-zl",
        "colab": {
          "base_uri": "https://localhost:8080/"
        },
        "outputId": "9536a3bb-dfd9-4b47-8914-687fe594dae4"
      },
      "execution_count": 190,
      "outputs": [
        {
          "output_type": "stream",
          "name": "stdout",
          "text": [
            "['angular_leaf_spot', 'bean_rust', 'healthy']\n"
          ]
        }
      ]
    },
    {
      "cell_type": "code",
      "source": [
        "class VGG16(nn.Module):\n",
        "    def __init__(self, num_classes=10):\n",
        "        super(VGG16, self).__init__()\n",
        "        self.layer1 = nn.Sequential(\n",
        "            nn.Conv2d(3, 64, kernel_size=3, stride=1, padding=1),\n",
        "            nn.BatchNorm2d(64),\n",
        "            nn.ReLU())\n",
        "        self.layer2 = nn.Sequential(\n",
        "            nn.Conv2d(64, 64, kernel_size=3, stride=1, padding=1),\n",
        "            nn.BatchNorm2d(64),\n",
        "            nn.ReLU(), \n",
        "            nn.MaxPool2d(kernel_size = 2, stride = 2))\n",
        "        self.layer3 = nn.Sequential(\n",
        "            nn.Conv2d(64, 128, kernel_size=3, stride=1, padding=1),\n",
        "            nn.BatchNorm2d(128),\n",
        "            nn.ReLU())\n",
        "        self.layer4 = nn.Sequential(\n",
        "            nn.Conv2d(128, 128, kernel_size=3, stride=1, padding=1),\n",
        "            nn.BatchNorm2d(128),\n",
        "            nn.ReLU(),\n",
        "            nn.MaxPool2d(kernel_size = 2, stride = 2))\n",
        "        self.layer5 = nn.Sequential(\n",
        "            nn.Conv2d(128, 256, kernel_size=3, stride=1, padding=1),\n",
        "            nn.BatchNorm2d(256),\n",
        "            nn.ReLU())\n",
        "        self.layer6 = nn.Sequential(\n",
        "            nn.Conv2d(256, 256, kernel_size=3, stride=1, padding=1),\n",
        "            nn.BatchNorm2d(256),\n",
        "            nn.ReLU())\n",
        "        self.layer7 = nn.Sequential(\n",
        "            nn.Conv2d(256, 256, kernel_size=3, stride=1, padding=1),\n",
        "            nn.BatchNorm2d(256),\n",
        "            nn.ReLU(),\n",
        "            nn.MaxPool2d(kernel_size = 2, stride = 2))\n",
        "        self.layer8 = nn.Sequential(\n",
        "            nn.Conv2d(256, 512, kernel_size=3, stride=1, padding=1),\n",
        "            nn.BatchNorm2d(512),\n",
        "            nn.ReLU())\n",
        "        self.layer9 = nn.Sequential(\n",
        "            nn.Conv2d(512, 512, kernel_size=3, stride=1, padding=1),\n",
        "            nn.BatchNorm2d(512),\n",
        "            nn.ReLU())\n",
        "        self.layer10 = nn.Sequential(\n",
        "            nn.Conv2d(512, 512, kernel_size=3, stride=1, padding=1),\n",
        "            nn.BatchNorm2d(512),\n",
        "            nn.ReLU(),\n",
        "            nn.MaxPool2d(kernel_size = 2, stride = 2))\n",
        "        self.layer11 = nn.Sequential(\n",
        "            nn.Conv2d(512, 512, kernel_size=3, stride=1, padding=1),\n",
        "            nn.BatchNorm2d(512),\n",
        "            nn.ReLU())\n",
        "        self.layer12 = nn.Sequential(\n",
        "            nn.Conv2d(512, 512, kernel_size=3, stride=1, padding=1),\n",
        "            nn.BatchNorm2d(512),\n",
        "            nn.ReLU())\n",
        "        self.layer13 = nn.Sequential(\n",
        "            nn.Conv2d(512, 512, kernel_size=3, stride=1, padding=1),\n",
        "            nn.BatchNorm2d(512),\n",
        "            nn.ReLU(),\n",
        "            nn.MaxPool2d(kernel_size = 2, stride = 2))\n",
        "        self.fc = nn.Sequential(\n",
        "            nn.Dropout(0.5),\n",
        "            nn.Linear(8192, 4096),\n",
        "            nn.ReLU())\n",
        "        self.fc1 = nn.Sequential(\n",
        "            nn.Dropout(0.5),\n",
        "            nn.Linear(4096, 4096),\n",
        "            nn.ReLU())\n",
        "        self.fc2= nn.Sequential(\n",
        "            nn.Linear(4096, num_classes))\n",
        "        \n",
        "    def forward(self, x):\n",
        "        out = self.layer1(x)\n",
        "        out = self.layer2(out)\n",
        "        out = self.layer3(out)\n",
        "        out = self.layer4(out)\n",
        "        out = self.layer5(out)\n",
        "        out = self.layer6(out)\n",
        "        out = self.layer7(out)\n",
        "        out = self.layer8(out)\n",
        "        out = self.layer9(out)\n",
        "        out = self.layer10(out)\n",
        "        out = self.layer11(out)\n",
        "        out = self.layer12(out)\n",
        "        out = self.layer13(out)\n",
        "        out = out.reshape(out.size(0), -1)\n",
        "        out = self.fc(out)\n",
        "        out = self.fc1(out)\n",
        "        out = self.fc2(out)\n",
        "        return out"
      ],
      "metadata": {
        "id": "MOhUyVD_H-4X"
      },
      "execution_count": 191,
      "outputs": []
    },
    {
      "cell_type": "code",
      "source": [
        "import torch\n",
        "import torch.nn as nn\n",
        "import torchvision\n",
        "import torchvision.transforms as transforms\n",
        "\n",
        "model = VGG16(num_classes).to(device)\n",
        "\n",
        "#Setting the loss function\n",
        "cost = nn.CrossEntropyLoss()\n",
        "criterion = nn.CrossEntropyLoss()\n",
        "#Setting the optimizer with the model parameters and learning rate\n",
        "optimizer = torch.optim.Adam(model.parameters(), lr=learning_rate)\n",
        "\n",
        "#this is defined to print how many steps are remaining when training\n",
        "total_step = len(train_loader)"
      ],
      "metadata": {
        "id": "WH8FJz0yIEvN"
      },
      "execution_count": 192,
      "outputs": []
    },
    {
      "cell_type": "code",
      "source": [
        "import numpy as np\n",
        "epochs = 30\n",
        "min_valid_loss = np.inf\n",
        "val_losses = []\n",
        "train_losses = []\n",
        "for e in range(epochs):\n",
        "    train_loss = 0.0\n",
        "    model.train()     # Optional when not using Model Specific layer\n",
        "    for data, labels in train_loader:\n",
        "        if torch.cuda.is_available():\n",
        "            data, labels = data.cuda(), labels.cuda()\n",
        "        \n",
        "        optimizer.zero_grad()\n",
        "        target = model(data)\n",
        "        loss = criterion(target,labels)\n",
        "        loss.backward()\n",
        "        optimizer.step()\n",
        "        train_loss += loss.item()\n",
        "    \n",
        "    valid_loss = 0.0\n",
        "  \n",
        "\n",
        "    model.eval()     # Optional when not using Model Specific layer\n",
        "    for data, labels in validation_loader:\n",
        "        if torch.cuda.is_available():\n",
        "            data, labels = data.cuda(), labels.cuda()\n",
        "        \n",
        "        target = model(data)\n",
        "        loss = criterion(target,labels)\n",
        "        valid_loss = loss.item() * data.size(0)\n",
        "        \n",
        " \n",
        "\n",
        "    train_losses.append((train_loss / len(train_loader)))\n",
        "    val_losses.append((valid_loss / len(validation_loader)))\n",
        "\n",
        "\n",
        "    print(f'Epoch {e+1} \\t\\t Training Loss: {train_loss / len(train_loader)} \\t\\t Validation Loss: {valid_loss / len(validation_loader)}')\n",
        "    if min_valid_loss > valid_loss:\n",
        "        print(f'Validation Loss Decreased({min_valid_loss:.6f}--->{valid_loss:.6f}) \\t Saving The Model')\n",
        "        min_valid_loss = valid_loss\n",
        "        # Saving State Dict\n",
        "        torch.save(model.state_dict(), 'saved_model.pth')\n",
        "\n",
        "\n",
        "\n",
        " "
      ],
      "metadata": {
        "id": "0EmhdU_Lxg-m",
        "colab": {
          "base_uri": "https://localhost:8080/"
        },
        "outputId": "f6a24ad7-28c8-4ada-c4db-38c07de3805a"
      },
      "execution_count": 193,
      "outputs": [
        {
          "output_type": "stream",
          "name": "stdout",
          "text": [
            "Epoch 1 \t\t Training Loss: 3.008256135564862 \t\t Validation Loss: 4.474449157714844\n",
            "Validation Loss Decreased(inf--->22.372246) \t Saving The Model\n",
            "Epoch 2 \t\t Training Loss: 1.0410471107020522 \t\t Validation Loss: 1.1781880855560303\n",
            "Validation Loss Decreased(22.372246--->5.890940) \t Saving The Model\n",
            "Epoch 3 \t\t Training Loss: 1.0283225070346484 \t\t Validation Loss: 1.0870329141616821\n",
            "Validation Loss Decreased(5.890940--->5.435165) \t Saving The Model\n",
            "Epoch 4 \t\t Training Loss: 1.0198283376115742 \t\t Validation Loss: 0.9550722241401672\n",
            "Validation Loss Decreased(5.435165--->4.775361) \t Saving The Model\n",
            "Epoch 5 \t\t Training Loss: 1.017476322072925 \t\t Validation Loss: 0.9531028866767883\n",
            "Validation Loss Decreased(4.775361--->4.765514) \t Saving The Model\n",
            "Epoch 6 \t\t Training Loss: 1.009988251960639 \t\t Validation Loss: 0.8956571817398071\n",
            "Validation Loss Decreased(4.765514--->4.478286) \t Saving The Model\n",
            "Epoch 7 \t\t Training Loss: 1.0021016272631558 \t\t Validation Loss: 1.0678179264068604\n",
            "Epoch 8 \t\t Training Loss: 0.9976124474496553 \t\t Validation Loss: 1.3037229776382446\n",
            "Epoch 9 \t\t Training Loss: 1.0066834037954158 \t\t Validation Loss: 1.1872844696044922\n",
            "Epoch 10 \t\t Training Loss: 0.9792355172561876 \t\t Validation Loss: 1.0306546688079834\n",
            "Epoch 11 \t\t Training Loss: 0.9361698392665747 \t\t Validation Loss: 0.45664453506469727\n",
            "Validation Loss Decreased(4.478286--->2.283223) \t Saving The Model\n",
            "Epoch 12 \t\t Training Loss: 0.9282860701734369 \t\t Validation Loss: 0.5884349942207336\n",
            "Epoch 13 \t\t Training Loss: 0.8096779332016454 \t\t Validation Loss: 0.4099431037902832\n",
            "Validation Loss Decreased(2.283223--->2.049716) \t Saving The Model\n",
            "Epoch 14 \t\t Training Loss: 0.8156839229843833 \t\t Validation Loss: 0.44707006216049194\n",
            "Epoch 15 \t\t Training Loss: 0.7834296985106035 \t\t Validation Loss: 0.427945613861084\n",
            "Epoch 16 \t\t Training Loss: 0.7482958869500593 \t\t Validation Loss: 0.6580492854118347\n",
            "Epoch 17 \t\t Training Loss: 0.7219930417609938 \t\t Validation Loss: 0.5803279280662537\n",
            "Epoch 18 \t\t Training Loss: 0.7550852461294695 \t\t Validation Loss: 0.5861124992370605\n",
            "Epoch 19 \t\t Training Loss: 0.7396217855540189 \t\t Validation Loss: 0.5345989465713501\n",
            "Epoch 20 \t\t Training Loss: 0.6641796484138026 \t\t Validation Loss: 0.7269145846366882\n",
            "Epoch 21 \t\t Training Loss: 0.6814355118708177 \t\t Validation Loss: 0.9200475811958313\n",
            "Epoch 22 \t\t Training Loss: 0.670005999731295 \t\t Validation Loss: 0.32686665654182434\n",
            "Validation Loss Decreased(2.049716--->1.634333) \t Saving The Model\n",
            "Epoch 23 \t\t Training Loss: 0.6449317859880852 \t\t Validation Loss: 0.8883565664291382\n",
            "Epoch 24 \t\t Training Loss: 0.7053464217619463 \t\t Validation Loss: 0.4993289113044739\n",
            "Epoch 25 \t\t Training Loss: 0.614104710745089 \t\t Validation Loss: 0.7999686002731323\n",
            "Epoch 26 \t\t Training Loss: 0.6170601158431082 \t\t Validation Loss: 0.6206624507904053\n",
            "Epoch 27 \t\t Training Loss: 0.5941577896927343 \t\t Validation Loss: 0.1310179978609085\n",
            "Validation Loss Decreased(1.634333--->0.655090) \t Saving The Model\n",
            "Epoch 28 \t\t Training Loss: 0.5880264377955234 \t\t Validation Loss: 0.7978197932243347\n",
            "Epoch 29 \t\t Training Loss: 0.6020772303595687 \t\t Validation Loss: 0.6086878180503845\n",
            "Epoch 30 \t\t Training Loss: 0.6515027230436151 \t\t Validation Loss: 0.26725441217422485\n"
          ]
        }
      ]
    },
    {
      "cell_type": "code",
      "source": [
        "import matplotlib.pyplot as plt\n",
        "plt.figure(figsize=(10,5))\n",
        "plt.title(\"Training and Validation Loss\")\n",
        "plt.plot(val_losses,label=\"val\")\n",
        "plt.plot(train_losses,label=\"train\")\n",
        "plt.legend()\n",
        "plt.show()\n",
        "\n",
        "\n",
        "print(val_losses)"
      ],
      "metadata": {
        "id": "do_yFBnsxlp8",
        "colab": {
          "base_uri": "https://localhost:8080/",
          "height": 373
        },
        "outputId": "ebd7cf66-6d89-4bef-99b2-7268780e8820"
      },
      "execution_count": 194,
      "outputs": [
        {
          "output_type": "display_data",
          "data": {
            "text/plain": [
              "<Figure size 720x360 with 1 Axes>"
            ],
            "image/png": "[encoded data removed]"
          },
          "metadata": {
            "needs_background": "light"
          }
        },
        {
          "output_type": "stream",
          "name": "stdout",
          "text": [
            "[4.474449157714844, 1.1781880855560303, 1.0870329141616821, 0.9550722241401672, 0.9531028866767883, 0.8956571817398071, 1.0678179264068604, 1.3037229776382446, 1.1872844696044922, 1.0306546688079834, 0.45664453506469727, 0.5884349942207336, 0.4099431037902832, 0.44707006216049194, 0.427945613861084, 0.6580492854118347, 0.5803279280662537, 0.5861124992370605, 0.5345989465713501, 0.7269145846366882, 0.9200475811958313, 0.32686665654182434, 0.8883565664291382, 0.4993289113044739, 0.7999686002731323, 0.6206624507904053, 0.1310179978609085, 0.7978197932243347, 0.6086878180503845, 0.26725441217422485]\n"
          ]
        }
      ]
    },
    {
      "cell_type": "code",
      "source": [
        "import torch\n",
        "import torch.nn as nn\n",
        "import torchvision\n",
        "import torchvision.transforms as transforms\n",
        "\n",
        "model = VGG16(num_classes=3).to(device)\n",
        "\n",
        "#Setting the loss function\n",
        "cost = nn.CrossEntropyLoss()\n",
        "criterion = nn.CrossEntropyLoss()\n",
        "#Setting the optimizer with the model parameters and learning rate\n",
        "optimizer = torch.optim.Adam(model.parameters(), lr=learning_rate)\n",
        "\n",
        "#this is defined to print how many steps are remaining when training\n",
        "total_step = len(train_loader)"
      ],
      "metadata": {
        "id": "LU6bTY-UyAha"
      },
      "execution_count": 198,
      "outputs": []
    },
    {
      "cell_type": "code",
      "source": [
        "from sklearn.metrics import f1_score\n",
        "import numpy as np\n",
        "from tqdm import tqdm\n",
        "\n",
        "total_step = len(train_loader)\n",
        "for epoch in range(27):\n",
        "    for i, (images, labels) in enumerate(train_loader):  \n",
        "        images = images.to(device)\n",
        "        labels = labels.to(device)\n",
        "        \n",
        "        #Forward pass\n",
        "        outputs = model(images)\n",
        "        loss = cost(outputs, labels)\n",
        "        \t\n",
        "        # Backward and optimize\n",
        "        optimizer.zero_grad()\n",
        "        loss.backward()\n",
        "        optimizer.step()\n",
        "        \t\t\n",
        "        if (i+1) % 400 == 0:\n",
        "            print ('Epoch [{}/{}], Step [{}/{}], Loss: {:.4f}' \n",
        "        \t\t           .format(epoch+1, num_epochs, i+1, total_step, loss.item()))\n",
        "                       \n",
        "y_true = []\n",
        "y_pred = []\n",
        "\n",
        "for data in tqdm(test_loader):\n",
        "  images,labels=data[0].to(device),data[1]  \n",
        "  y_true.extend(labels.numpy())\n",
        " \n",
        "  outputs=model(images)\n",
        " \n",
        "  _, predicted = torch.max(outputs, 1)\n",
        "  y_pred.extend(predicted.cpu().numpy())\n",
        "f1_score(y_true, y_pred, average='macro')\n",
        "print(f1_score(y_true, y_pred, average='macro'))\n",
        "\n",
        "with torch.no_grad():\n",
        "    correct = 0\n",
        "    total = 0\n",
        "    for images, labels in test_loader:\n",
        "        images = images.to(device)\n",
        "        labels = labels.to(device)\n",
        "        outputs = model(images)\n",
        "        _, predicted = torch.max(outputs.data, 1)\n",
        "        total += labels.size(0)\n",
        "        correct += (predicted == labels).sum().item()\n",
        "\n",
        "    print('Accuracy of the network on the 10000 test images: {} %'.format(100 * correct / total))\n",
        "\t "
      ],
      "metadata": {
        "id": "kz4g5elGIGb9",
        "colab": {
          "base_uri": "https://localhost:8080/"
        },
        "outputId": "4e76ac36-783e-48bf-a913-06a269b5e6ef"
      },
      "execution_count": 199,
      "outputs": [
        {
          "output_type": "stream",
          "name": "stderr",
          "text": [
            "100%|██████████| 4/4 [00:01<00:00,  3.16it/s]\n"
          ]
        },
        {
          "output_type": "stream",
          "name": "stdout",
          "text": [
            "0.8982219807841133\n",
            "Accuracy of the network on the 10000 test images: 89.84375 %\n"
          ]
        }
      ]
    },
    {
      "cell_type": "code",
      "source": [
        "import sklearn.metrics\n",
        "\n",
        "print(\"f1 score\",f1_score(y_true, y_pred, average='macro'))\n",
        "print(\"f1 score\",f1_score(y_true, y_pred, average='micro'))\n",
        "print(\"accuracy_score\",sklearn.metrics.accuracy_score(y_true, y_pred))\n",
        "print(\"balanced accuracy_score\",sklearn.metrics.balanced_accuracy_score(y_true, y_pred))\n",
        "print(\"precision_score\",sklearn.metrics.precision_score(y_true, y_pred, average='macro'))\n",
        "print(\"rECALL micro\",sklearn.metrics.recall_score(y_true, y_pred, average='micro'))\n",
        "print(\"rECALL macro\",sklearn.metrics.recall_score(y_true, y_pred, average='macro'))"
      ],
      "metadata": {
        "colab": {
          "base_uri": "https://localhost:8080/"
        },
        "id": "iy-OqF0-Mzix",
        "outputId": "9e3306dd-01d2-485f-9528-b3c01b4bbc33"
      },
      "execution_count": 201,
      "outputs": [
        {
          "output_type": "stream",
          "name": "stdout",
          "text": [
            "f1 score 0.8912166035263746\n",
            "f1 score 0.890625\n",
            "accuracy_score 0.890625\n",
            "balanced accuracy_score 0.8903654485049834\n",
            "precision_score 0.8954998476737607\n",
            "rECALL micro 0.890625\n",
            "rECALL macro 0.8903654485049834\n"
          ]
        }
      ]
    },
    {
      "cell_type": "code",
      "source": [
        "import seaborn as sns\n",
        "from tqdm import tqdm\n",
        "import sklearn\n",
        "import numpy as np\n",
        "import pandas as pd\n",
        "import matplotlib.pyplot as plt\n",
        "from sklearn.metrics import confusion_matrix\n",
        "\n",
        "y_true = []\n",
        "y_pred = []\n",
        " \n",
        "for data in tqdm(test_loader):\n",
        "  images,labels=data[0].to(device),data[1]  \n",
        "  y_true.extend(labels.numpy())\n",
        " \n",
        "  outputs=model(images)\n",
        " \n",
        "  _, predicted = torch.max(outputs, 1)\n",
        "  y_pred.extend(predicted.cpu().numpy())\n",
        "\n",
        "\n",
        "cf_matrix = confusion_matrix(y_true, y_pred)\n",
        "\n",
        "class_names = ('angular_leaf_spot', 'bean_rust', 'healthy')\n",
        "dataframe = pd.DataFrame(cf_matrix, index=class_names, columns=class_names)\n",
        "\n",
        "\n",
        "plt.figure(figsize=(8, 6))\n",
        " \n",
        "# Create heatmap\n",
        "sns.heatmap(dataframe, annot=True, cbar=None,cmap=\"YlGnBu\",fmt=\"d\")\n",
        " \n",
        "plt.title(\"Confusion Matrix\"), plt.tight_layout()\n",
        " \n",
        "plt.ylabel(\"True Class\"), \n",
        "plt.xlabel(\"Predicted Class\")\n",
        "plt.show()"
      ],
      "metadata": {
        "id": "F_x1ihT5IGgt",
        "colab": {
          "base_uri": "https://localhost:8080/",
          "height": 472
        },
        "outputId": "4e538414-fda9-4a80-92e4-bceeecb820d9"
      },
      "execution_count": 200,
      "outputs": [
        {
          "output_type": "stream",
          "name": "stderr",
          "text": [
            "100%|██████████| 4/4 [00:01<00:00,  2.71it/s]\n"
          ]
        },
        {
          "output_type": "display_data",
          "data": {
            "text/plain": [
              "<Figure size 576x432 with 1 Axes>"
            ],
            "image/png": "[encoded data removed]"
          },
          "metadata": {
            "needs_background": "light"
          }
        }
      ]
    },
    {
      "cell_type": "code",
      "source": [],
      "metadata": {
        "id": "8dGbMvSbIGjF"
      },
      "execution_count": 197,
      "outputs": []
    }
  ]
}