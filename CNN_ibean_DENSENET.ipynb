{
  "nbformat": 4,
  "nbformat_minor": 0,
  "metadata": {
    "colab": {
      "provenance": [],
      "collapsed_sections": []
    },
    "kernelspec": {
      "name": "python3",
      "display_name": "Python 3"
    },
    "language_info": {
      "name": "python"
    },
    "accelerator": "GPU"
  },
  "cells": [
    {
      "cell_type": "code",
      "execution_count": 15,
      "metadata": {
        "id": "v1By7S34nzlP"
      },
      "outputs": [],
      "source": [
        "import os\n",
        "import numpy as np\n",
        "import torch\n",
        "import glob\n",
        "import torch.nn as nn\n",
        "from torchvision.transforms import transforms\n",
        "from torch.utils.data import DataLoader\n",
        "from torch.optim import Adam\n",
        "from torch.autograd import Variable\n",
        "import torchvision\n",
        "import pathlib\n",
        "from torchvision import datasets\n",
        "from torchvision import transforms\n",
        "from torch.utils.data.sampler import SubsetRandomSampler\n",
        "\n",
        "import re\n",
        "import torch\n",
        "import torch.nn as nn\n",
        "import torch.nn.functional as F\n",
        "import torch.utils.checkpoint as cp\n",
        "from collections import OrderedDict\n",
        "from torch import Tensor\n",
        "from torch.jit.annotations import List"
      ]
    },
    {
      "cell_type": "code",
      "source": [
        "device=torch.device('cuda' if torch.cuda.is_available() else 'cpu')"
      ],
      "metadata": {
        "id": "lGpPfs5wn0cu"
      },
      "execution_count": 16,
      "outputs": []
    },
    {
      "cell_type": "code",
      "source": [
        "print(device)"
      ],
      "metadata": {
        "colab": {
          "base_uri": "https://localhost:8080/"
        },
        "id": "dwt9_nDKn0fO",
        "outputId": "154d6076-9efb-4387-d4e6-861b8ccb595b"
      },
      "execution_count": 17,
      "outputs": [
        {
          "output_type": "stream",
          "name": "stdout",
          "text": [
            "cuda\n"
          ]
        }
      ]
    },
    {
      "cell_type": "code",
      "source": [
        "from google.colab import drive\n",
        "drive.mount('/content/test')"
      ],
      "metadata": {
        "colab": {
          "base_uri": "https://localhost:8080/"
        },
        "id": "wFYza57qn0j8",
        "outputId": "52985517-7abc-4dc6-99bb-23ac8b7dce5d"
      },
      "execution_count": 18,
      "outputs": [
        {
          "output_type": "stream",
          "name": "stdout",
          "text": [
            "Drive already mounted at /content/test; to attempt to forcibly remount, call drive.mount(\"/content/test\", force_remount=True).\n"
          ]
        }
      ]
    },
    {
      "cell_type": "code",
      "source": [
        "transformer=transforms.Compose([\n",
        "    transforms.Resize((150,150)),\n",
        "    transforms.ToTensor(),\n",
        "    transforms.Normalize([0.5,0.5,0.5], # 0-1 to [-1,1] , formula (x-mean)/std\n",
        "                        [0.5,0.5,0.5])\n",
        "])"
      ],
      "metadata": {
        "id": "MzfD9hj2n0mN"
      },
      "execution_count": 19,
      "outputs": []
    },
    {
      "cell_type": "code",
      "source": [
        "batch_size = 64\n",
        "num_classes = 3\n",
        "learning_rate = 0.001\n",
        "num_epochs = 10"
      ],
      "metadata": {
        "id": "z4PkwQ67n0om"
      },
      "execution_count": 20,
      "outputs": []
    },
    {
      "cell_type": "code",
      "source": [
        "train_path='/content/test/MyDrive/train'\n",
        "test_path='/content/test/MyDrive/test'\n",
        "validation_path = '/content/test/MyDrive/validation'\n",
        "\n",
        "train_loader=DataLoader(\n",
        "    torchvision.datasets.ImageFolder(train_path,transform=transformer),\n",
        "    batch_size=batch_size, shuffle=True\n",
        ")\n",
        "test_loader=DataLoader(\n",
        "    torchvision.datasets.ImageFolder(test_path,transform=transformer),\n",
        "    batch_size=batch_size, shuffle=True\n",
        ")\n",
        "\n",
        "validation_loader=DataLoader(\n",
        "    torchvision.datasets.ImageFolder(validation_path,transform=transformer),\n",
        "    batch_size=64, shuffle=True\n",
        ")"
      ],
      "metadata": {
        "id": "7xKtUjpgn0q5"
      },
      "execution_count": 21,
      "outputs": []
    },
    {
      "cell_type": "code",
      "source": [
        "test_loader.dataset[0][0].shape"
      ],
      "metadata": {
        "colab": {
          "base_uri": "https://localhost:8080/"
        },
        "id": "PNKQX1B3n5EN",
        "outputId": "5b7345bc-ee27-4a8e-c823-75b507a1c34a"
      },
      "execution_count": 22,
      "outputs": [
        {
          "output_type": "execute_result",
          "data": {
            "text/plain": [
              "torch.Size([3, 150, 150])"
            ]
          },
          "metadata": {},
          "execution_count": 22
        }
      ]
    },
    {
      "cell_type": "code",
      "source": [
        "root=pathlib.Path(train_path)\n",
        "classes=sorted([j.name.split('/')[-1] for j in root.iterdir()])"
      ],
      "metadata": {
        "id": "AXvElpQvn5Gk"
      },
      "execution_count": 23,
      "outputs": []
    },
    {
      "cell_type": "code",
      "source": [
        "print(classes)"
      ],
      "metadata": {
        "colab": {
          "base_uri": "https://localhost:8080/"
        },
        "id": "or3z5lDon5I8",
        "outputId": "77b0b523-2026-4a8f-bf96-758d8896f479"
      },
      "execution_count": 24,
      "outputs": [
        {
          "output_type": "stream",
          "name": "stdout",
          "text": [
            "['angular_leaf_spot', 'bean_rust', 'healthy']\n"
          ]
        }
      ]
    },
    {
      "cell_type": "code",
      "source": [
        "__all__ = ['DenseNet', 'densenet121', 'densenet169', 'densenet201', 'densenet161']\n",
        "\n",
        "model_urls = {\n",
        "    'densenet121': 'https://download.pytorch.org/models/densenet121-a639ec97.pth',\n",
        "    'densenet169': 'https://download.pytorch.org/models/densenet169-b2777c0a.pth',\n",
        "    'densenet201': 'https://download.pytorch.org/models/densenet201-c1103571.pth',\n",
        "    'densenet161': 'https://download.pytorch.org/models/densenet161-8d451a50.pth',\n",
        "}\n",
        "\n",
        "\n",
        "class _DenseLayer(nn.Module):\n",
        "    def __init__(self, num_input_features, growth_rate, bn_size, drop_rate, memory_efficient=False):\n",
        "        super(_DenseLayer, self).__init__()\n",
        "        self.add_module('norm1', nn.BatchNorm2d(num_input_features)),\n",
        "        self.add_module('relu1', nn.ReLU(inplace=True)),\n",
        "        self.add_module('conv1', nn.Conv2d(num_input_features, bn_size *\n",
        "                                           growth_rate, kernel_size=1, stride=1,\n",
        "                                           bias=False)),\n",
        "        self.add_module('norm2', nn.BatchNorm2d(bn_size * growth_rate)),\n",
        "        self.add_module('relu2', nn.ReLU(inplace=True)),\n",
        "        self.add_module('conv2', nn.Conv2d(bn_size * growth_rate, growth_rate,\n",
        "                                           kernel_size=3, stride=1, padding=1,\n",
        "                                           bias=False)),\n",
        "        self.drop_rate = float(drop_rate)\n",
        "        self.memory_efficient = memory_efficient\n",
        "\n",
        "    def bn_function(self, inputs):\n",
        "        # type: (List[Tensor]) -> Tensor\n",
        "        concated_features = torch.cat(inputs, 1)\n",
        "        bottleneck_output = self.conv1(self.relu1(self.norm1(concated_features)))  # noqa: T484\n",
        "        return bottleneck_output\n",
        "\n",
        "    # todo: rewrite when torchscript supports any\n",
        "    def any_requires_grad(self, input):\n",
        "        # type: (List[Tensor]) -> bool\n",
        "        for tensor in input:\n",
        "            if tensor.requires_grad:\n",
        "                return True\n",
        "        return False\n",
        "\n",
        "    @torch.jit.unused  # noqa: T484\n",
        "    def call_checkpoint_bottleneck(self, input):\n",
        "        # type: (List[Tensor]) -> Tensor\n",
        "        def closure(*inputs):\n",
        "            return self.bn_function(inputs)\n",
        "\n",
        "        return cp.checkpoint(closure, *input)\n",
        "\n",
        "    @torch.jit._overload_method  # noqa: F811\n",
        "    def forward(self, input):\n",
        "        # type: (List[Tensor]) -> (Tensor)\n",
        "        pass\n",
        "\n",
        "    @torch.jit._overload_method  # noqa: F811\n",
        "    def forward(self, input):\n",
        "        # type: (Tensor) -> (Tensor)\n",
        "        pass\n",
        "\n",
        "    # torchscript does not yet support *args, so we overload method\n",
        "    # allowing it to take either a List[Tensor] or single Tensor\n",
        "    def forward(self, input):  # noqa: F811\n",
        "        if isinstance(input, Tensor):\n",
        "            prev_features = [input]\n",
        "        else:\n",
        "            prev_features = input\n",
        "\n",
        "        if self.memory_efficient and self.any_requires_grad(prev_features):\n",
        "            if torch.jit.is_scripting():\n",
        "                raise Exception(\"Memory Efficient not supported in JIT\")\n",
        "\n",
        "            bottleneck_output = self.call_checkpoint_bottleneck(prev_features)\n",
        "        else:\n",
        "            bottleneck_output = self.bn_function(prev_features)\n",
        "\n",
        "        new_features = self.conv2(self.relu2(self.norm2(bottleneck_output)))\n",
        "        if self.drop_rate > 0:\n",
        "            new_features = F.dropout(new_features, p=self.drop_rate,\n",
        "                                     training=self.training)\n",
        "        return new_features\n",
        "\n",
        "\n",
        "class _DenseBlock(nn.ModuleDict):\n",
        "    _version = 2\n",
        "\n",
        "    def __init__(self, num_layers, num_input_features, bn_size, growth_rate, drop_rate, memory_efficient=False):\n",
        "        super(_DenseBlock, self).__init__()\n",
        "        for i in range(num_layers):\n",
        "            layer = _DenseLayer(\n",
        "                num_input_features + i * growth_rate,\n",
        "                growth_rate=growth_rate,\n",
        "                bn_size=bn_size,\n",
        "                drop_rate=drop_rate,\n",
        "                memory_efficient=memory_efficient,\n",
        "            )\n",
        "            self.add_module('denselayer%d' % (i + 1), layer)\n",
        "\n",
        "    def forward(self, init_features):\n",
        "        features = [init_features]\n",
        "        for name, layer in self.items():\n",
        "            new_features = layer(features)\n",
        "            features.append(new_features)\n",
        "        return torch.cat(features, 1)\n",
        "\n",
        "\n",
        "class _Transition(nn.Sequential):\n",
        "    def __init__(self, num_input_features, num_output_features):\n",
        "        super(_Transition, self).__init__()\n",
        "        self.add_module('norm', nn.BatchNorm2d(num_input_features))\n",
        "        self.add_module('relu', nn.ReLU(inplace=True))\n",
        "        self.add_module('conv', nn.Conv2d(num_input_features, num_output_features,\n",
        "                                          kernel_size=1, stride=1, bias=False))\n",
        "        self.add_module('pool', nn.AvgPool2d(kernel_size=2, stride=2))\n",
        "\n",
        "\n",
        "class DenseNet(nn.Module):\n",
        "    r\"\"\"Densenet-BC model class, based on\n",
        "    `\"Densely Connected Convolutional Networks\" <https://arxiv.org/pdf/1608.06993.pdf>`_\n",
        "    Args:\n",
        "        growth_rate (int) - how many filters to add each layer (`k` in paper)\n",
        "        block_config (list of 4 ints) - how many layers in each pooling block\n",
        "        num_init_features (int) - the number of filters to learn in the first convolution layer\n",
        "        bn_size (int) - multiplicative factor for number of bottle neck layers\n",
        "          (i.e. bn_size * k features in the bottleneck layer)\n",
        "        drop_rate (float) - dropout rate after each dense layer\n",
        "        num_classes (int) - number of classification classes\n",
        "        memory_efficient (bool) - If True, uses checkpointing. Much more memory efficient,\n",
        "          but slower. Default: *False*. See `\"paper\" <https://arxiv.org/pdf/1707.06990.pdf>`_\n",
        "    \"\"\"\n",
        "\n",
        "    def __init__(self, growth_rate=32, block_config=(6, 12, 24, 16),\n",
        "                 num_init_features=64, bn_size=4, drop_rate=0, num_classes=1000, memory_efficient=False):\n",
        "\n",
        "        super(DenseNet, self).__init__()\n",
        "\n",
        "        # First convolution\n",
        "        self.features = nn.Sequential(OrderedDict([\n",
        "            ('conv0', nn.Conv2d(3, num_init_features, kernel_size=7, stride=2,\n",
        "                                padding=3, bias=False)),\n",
        "            ('norm0', nn.BatchNorm2d(num_init_features)),\n",
        "            ('relu0', nn.ReLU(inplace=True)),\n",
        "            ('pool0', nn.MaxPool2d(kernel_size=3, stride=2, padding=1)),\n",
        "        ]))\n",
        "\n",
        "        # Each denseblock\n",
        "        num_features = num_init_features\n",
        "        for i, num_layers in enumerate(block_config):\n",
        "            block = _DenseBlock(\n",
        "                num_layers=num_layers,\n",
        "                num_input_features=num_features,\n",
        "                bn_size=bn_size,\n",
        "                growth_rate=growth_rate,\n",
        "                drop_rate=drop_rate,\n",
        "                memory_efficient=memory_efficient\n",
        "            )\n",
        "            self.features.add_module('denseblock%d' % (i + 1), block)\n",
        "            num_features = num_features + num_layers * growth_rate\n",
        "            if i != len(block_config) - 1:\n",
        "                trans = _Transition(num_input_features=num_features,\n",
        "                                    num_output_features=num_features // 2)\n",
        "                self.features.add_module('transition%d' % (i + 1), trans)\n",
        "                num_features = num_features // 2\n",
        "\n",
        "        # Final batch norm\n",
        "        self.features.add_module('norm5', nn.BatchNorm2d(num_features))\n",
        "\n",
        "        # Linear layer\n",
        "        self.classifier = nn.Linear(num_features, num_classes)\n",
        "\n",
        "        # Official init from torch repo.\n",
        "        for m in self.modules():\n",
        "            if isinstance(m, nn.Conv2d):\n",
        "                nn.init.kaiming_normal_(m.weight)\n",
        "            elif isinstance(m, nn.BatchNorm2d):\n",
        "                nn.init.constant_(m.weight, 1)\n",
        "                nn.init.constant_(m.bias, 0)\n",
        "            elif isinstance(m, nn.Linear):\n",
        "                nn.init.constant_(m.bias, 0)\n",
        "\n",
        "    def forward(self, x):\n",
        "        features = self.features(x)\n",
        "        out = F.relu(features, inplace=True)\n",
        "        out = F.adaptive_avg_pool2d(out, (1, 1))\n",
        "        out = torch.flatten(out, 1)\n",
        "        out = self.classifier(out)\n",
        "        return out\n",
        "\n",
        "\n",
        "def _load_state_dict(model, model_url, progress):\n",
        "    # '.'s are no longer allowed in module names, but previous _DenseLayer\n",
        "    # has keys 'norm.1', 'relu.1', 'conv.1', 'norm.2', 'relu.2', 'conv.2'.\n",
        "    # They are also in the checkpoints in model_urls. This pattern is used\n",
        "    # to find such keys.\n",
        "    pattern = re.compile(\n",
        "        r'^(.*denselayer\\d+\\.(?:norm|relu|conv))\\.((?:[12])\\.(?:weight|bias|running_mean|running_var))$')\n",
        "\n",
        "    state_dict = load_state_dict_from_url(model_url, progress=progress)\n",
        "    for key in list(state_dict.keys()):\n",
        "        res = pattern.match(key)\n",
        "        if res:\n",
        "            new_key = res.group(1) + res.group(2)\n",
        "            state_dict[new_key] = state_dict[key]\n",
        "            del state_dict[key]\n",
        "    model.load_state_dict(state_dict)\n",
        "\n",
        "\n",
        "def _densenet(arch, growth_rate, block_config, num_init_features, pretrained, progress,\n",
        "              **kwargs):\n",
        "    model = DenseNet(growth_rate, block_config, num_init_features, **kwargs)\n",
        "    if pretrained:\n",
        "        _load_state_dict(model, model_urls[arch], progress)\n",
        "    return model\n",
        "\n",
        "\n",
        "def densenet121(pretrained=False, progress=True, **kwargs):\n",
        "    r\"\"\"Densenet-121 model from\n",
        "    `\"Densely Connected Convolutional Networks\" <https://arxiv.org/pdf/1608.06993.pdf>`_\n",
        "    Args:\n",
        "        pretrained (bool): If True, returns a model pre-trained on ImageNet\n",
        "        progress (bool): If True, displays a progress bar of the download to stderr\n",
        "        memory_efficient (bool) - If True, uses checkpointing. Much more memory efficient,\n",
        "          but slower. Default: *False*. See `\"paper\" <https://arxiv.org/pdf/1707.06990.pdf>`_\n",
        "    \"\"\"\n",
        "    return _densenet('densenet121', 32, (6, 12, 24, 16), 64, pretrained, progress,\n",
        "                     **kwargs)\n",
        "\n",
        "\n",
        "def densenet161(pretrained=False, progress=True, **kwargs):\n",
        "    r\"\"\"Densenet-161 model from\n",
        "    `\"Densely Connected Convolutional Networks\" <https://arxiv.org/pdf/1608.06993.pdf>`_\n",
        "    Args:\n",
        "        pretrained (bool): If True, returns a model pre-trained on ImageNet\n",
        "        progress (bool): If True, displays a progress bar of the download to stderr\n",
        "        memory_efficient (bool) - If True, uses checkpointing. Much more memory efficient,\n",
        "          but slower. Default: *False*. See `\"paper\" <https://arxiv.org/pdf/1707.06990.pdf>`_\n",
        "    \"\"\"\n",
        "    return _densenet('densenet161', 48, (6, 12, 36, 24), 96, pretrained, progress,\n",
        "                     **kwargs)\n",
        "\n",
        "\n",
        "def densenet169(pretrained=False, progress=True, **kwargs):\n",
        "    r\"\"\"Densenet-169 model from\n",
        "    `\"Densely Connected Convolutional Networks\" <https://arxiv.org/pdf/1608.06993.pdf>`_\n",
        "    Args:\n",
        "        pretrained (bool): If True, returns a model pre-trained on ImageNet\n",
        "        progress (bool): If True, displays a progress bar of the download to stderr\n",
        "        memory_efficient (bool) - If True, uses checkpointing. Much more memory efficient,\n",
        "          but slower. Default: *False*. See `\"paper\" <https://arxiv.org/pdf/1707.06990.pdf>`_\n",
        "    \"\"\"\n",
        "    return _densenet('densenet169', 32, (6, 12, 32, 32), 64, pretrained, progress,\n",
        "                     **kwargs)\n",
        "\n",
        "\n",
        "def densenet201(pretrained=False, progress=True, **kwargs):\n",
        "    r\"\"\"Densenet-201 model from\n",
        "    `\"Densely Connected Convolutional Networks\" <https://arxiv.org/pdf/1608.06993.pdf>`_\n",
        "    Args:\n",
        "        pretrained (bool): If True, returns a model pre-trained on ImageNet\n",
        "        progress (bool): If True, displays a progress bar of the download to stderr\n",
        "        memory_efficient (bool) - If True, uses checkpointing. Much more memory efficient,\n",
        "          but slower. Default: *False*. See `\"paper\" <https://arxiv.org/pdf/1707.06990.pdf>`_\n",
        "    \"\"\"\n",
        "    return _densenet('densenet201', 32, (6, 12, 48, 32), 64, pretrained, progress,\n",
        "                     **kwargs)"
      ],
      "metadata": {
        "id": "FPmCuQnWn5K_"
      },
      "execution_count": 25,
      "outputs": []
    },
    {
      "cell_type": "code",
      "source": [
        "import torch\n",
        "import torch.nn as nn\n",
        "import torchvision\n",
        "import torchvision.transforms as transforms\n",
        "\n",
        "model = DenseNet(num_classes=3).to(device)\n",
        "\n",
        "#Setting the loss function\n",
        "cost = nn.CrossEntropyLoss()\n",
        "criterion = nn.CrossEntropyLoss()\n",
        "#Setting the optimizer with the model parameters and learning rate\n",
        "optimizer = torch.optim.Adam(model.parameters(), lr=learning_rate)\n",
        "#optimizer = torch.optim.SGD(model.parameters(), lr = 0.01)\n",
        "#this is defined to print how many steps are remaining when training\n",
        "total_step = len(train_loader)"
      ],
      "metadata": {
        "id": "FbLxo26f9z_-"
      },
      "execution_count": 29,
      "outputs": []
    },
    {
      "cell_type": "code",
      "source": [
        "import numpy as np\n",
        "epochs = 40\n",
        "min_valid_loss = np.inf\n",
        "val_losses = []\n",
        "train_losses = []\n",
        "for e in range(epochs):\n",
        "    train_loss = 0.0\n",
        "    model.train()     # Optional when not using Model Specific layer\n",
        "    for data, labels in train_loader:\n",
        "        if torch.cuda.is_available():\n",
        "            data, labels = data.cuda(), labels.cuda()\n",
        "        \n",
        "        optimizer.zero_grad()\n",
        "        target = model(data)\n",
        "        loss = criterion(target,labels)\n",
        "        loss.backward()\n",
        "        optimizer.step()\n",
        "        train_loss += loss.item()\n",
        "    \n",
        "    valid_loss = 0.0\n",
        "  \n",
        "\n",
        "    model.eval()     # Optional when not using Model Specific layer\n",
        "    for data, labels in validation_loader:\n",
        "        if torch.cuda.is_available():\n",
        "            data, labels = data.cuda(), labels.cuda()\n",
        "        \n",
        "        target = model(data)\n",
        "        loss = criterion(target,labels)\n",
        "        valid_loss = loss.item() * data.size(0)\n",
        "        \n",
        " \n",
        "\n",
        "    train_losses.append((train_loss / len(train_loader)))\n",
        "    val_losses.append((valid_loss / len(validation_loader)))\n",
        "\n",
        "\n",
        "    print(f'Epoch {e+1} \\t\\t Training Loss: {train_loss / len(train_loader)} \\t\\t Validation Loss: {valid_loss / len(validation_loader)}')\n",
        "    if min_valid_loss > valid_loss:\n",
        "        print(f'Validation Loss Decreased({min_valid_loss:.6f}--->{valid_loss:.6f}) \\t Saving The Model')\n",
        "        min_valid_loss = valid_loss\n",
        "        # Saving State Dict\n",
        "        torch.save(model.state_dict(), 'saved_model.pth')"
      ],
      "metadata": {
        "colab": {
          "base_uri": "https://localhost:8080/"
        },
        "id": "55SiD8SQ94Ir",
        "outputId": "b0c57b66-0e11-4766-f78e-13fd9c613849"
      },
      "execution_count": 30,
      "outputs": [
        {
          "output_type": "stream",
          "name": "stdout",
          "text": [
            "Epoch 1 \t\t Training Loss: 0.8177856101709253 \t\t Validation Loss: 6.849891344706218\n",
            "Validation Loss Decreased(inf--->20.549674) \t Saving The Model\n",
            "Epoch 2 \t\t Training Loss: 0.6627852531040416 \t\t Validation Loss: 0.8395487070083618\n",
            "Validation Loss Decreased(20.549674--->2.518646) \t Saving The Model\n",
            "Epoch 3 \t\t Training Loss: 0.5777783832129311 \t\t Validation Loss: 0.8305962880452474\n",
            "Validation Loss Decreased(2.518646--->2.491789) \t Saving The Model\n",
            "Epoch 4 \t\t Training Loss: 0.4715018636163543 \t\t Validation Loss: 2.141092220942179\n",
            "Epoch 5 \t\t Training Loss: 0.4666451706605799 \t\t Validation Loss: 0.3494347631931305\n",
            "Validation Loss Decreased(2.491789--->1.048304) \t Saving The Model\n",
            "Epoch 6 \t\t Training Loss: 0.4621650664245381 \t\t Validation Loss: 0.7303101817766825\n",
            "Epoch 7 \t\t Training Loss: 0.40724148995736065 \t\t Validation Loss: 0.8339776595433553\n",
            "Epoch 8 \t\t Training Loss: 0.41540663294932423 \t\t Validation Loss: 0.9674263000488281\n",
            "Epoch 9 \t\t Training Loss: 0.3522740304470062 \t\t Validation Loss: 1.6082388162612915\n",
            "Epoch 10 \t\t Training Loss: 0.3274443640428431 \t\t Validation Loss: 0.1816907897591591\n",
            "Validation Loss Decreased(1.048304--->0.545072) \t Saving The Model\n",
            "Epoch 11 \t\t Training Loss: 0.2695009866181542 \t\t Validation Loss: 0.727563202381134\n",
            "Epoch 12 \t\t Training Loss: 0.2470199364949675 \t\t Validation Loss: 0.01062280653665463\n",
            "Validation Loss Decreased(0.545072--->0.031868) \t Saving The Model\n",
            "Epoch 13 \t\t Training Loss: 0.24422389225048177 \t\t Validation Loss: 0.057976736376682915\n",
            "Epoch 14 \t\t Training Loss: 0.24872416871435502 \t\t Validation Loss: 2.1688310305277505\n",
            "Epoch 15 \t\t Training Loss: 0.22403006847290433 \t\t Validation Loss: 0.5526332557201385\n",
            "Epoch 16 \t\t Training Loss: 0.13502656076760852 \t\t Validation Loss: 0.06670393670598666\n",
            "Epoch 17 \t\t Training Loss: 0.11462166028864243 \t\t Validation Loss: 0.02043671750773986\n",
            "Epoch 18 \t\t Training Loss: 0.22149994268136866 \t\t Validation Loss: 0.1953483372926712\n",
            "Epoch 19 \t\t Training Loss: 0.15445179996245048 \t\t Validation Loss: 0.07246065884828568\n",
            "Epoch 20 \t\t Training Loss: 0.14051317072966518 \t\t Validation Loss: 1.8039780855178833\n",
            "Epoch 21 \t\t Training Loss: 0.16697731920901468 \t\t Validation Loss: 0.33178764084974927\n",
            "Epoch 22 \t\t Training Loss: 0.19827338461490238 \t\t Validation Loss: 0.17396831264098486\n",
            "Epoch 23 \t\t Training Loss: 0.13117991848027005 \t\t Validation Loss: 0.14851597448190054\n",
            "Epoch 24 \t\t Training Loss: 0.12074074499747332 \t\t Validation Loss: 0.06860549872120221\n",
            "Epoch 25 \t\t Training Loss: 0.07034676434362636 \t\t Validation Loss: 0.04280442992846171\n",
            "Epoch 26 \t\t Training Loss: 0.10044979797128369 \t\t Validation Loss: 0.2148931473493576\n",
            "Epoch 27 \t\t Training Loss: 0.2128133326768875 \t\t Validation Loss: 0.1739800969759623\n",
            "Epoch 28 \t\t Training Loss: 0.15507269847918959 \t\t Validation Loss: 0.8280979593594869\n",
            "Epoch 29 \t\t Training Loss: 0.10256378725171089 \t\t Validation Loss: 0.13680588454008102\n",
            "Epoch 30 \t\t Training Loss: 0.10926635672940928 \t\t Validation Loss: 0.0022673808659116426\n",
            "Validation Loss Decreased(0.031868--->0.006802) \t Saving The Model\n",
            "Epoch 31 \t\t Training Loss: 0.05672622483004542 \t\t Validation Loss: 2.497702638308207\n",
            "Epoch 32 \t\t Training Loss: 0.10300421008073232 \t\t Validation Loss: 0.7414153218269348\n",
            "Epoch 33 \t\t Training Loss: 0.20315895656890728 \t\t Validation Loss: 0.006955771241337061\n",
            "Epoch 34 \t\t Training Loss: 0.14258093474542394 \t\t Validation Loss: 0.10309922819336255\n",
            "Epoch 35 \t\t Training Loss: 0.10131340156144955 \t\t Validation Loss: 0.07652927190065384\n",
            "Epoch 36 \t\t Training Loss: 0.11298732437631663 \t\t Validation Loss: 0.013965164932111898\n",
            "Epoch 37 \t\t Training Loss: 0.09239443742177066 \t\t Validation Loss: 0.09355397894978523\n",
            "Epoch 38 \t\t Training Loss: 0.1083396279855686 \t\t Validation Loss: 1.3499579826990764\n",
            "Epoch 39 \t\t Training Loss: 0.06489263436592677 \t\t Validation Loss: 0.006272334139794111\n",
            "Epoch 40 \t\t Training Loss: 0.06275511368670884 \t\t Validation Loss: 0.7176169753074646\n"
          ]
        }
      ]
    },
    {
      "cell_type": "code",
      "source": [
        "import matplotlib.pyplot as plt\n",
        "plt.figure(figsize=(10,5))\n",
        "plt.title(\"Training and Validation Loss\")\n",
        "plt.plot(val_losses,label=\"val\")\n",
        "plt.plot(train_losses,label=\"train\")\n",
        "plt.legend()\n",
        "plt.show()\n",
        "\n",
        "\n",
        "print(val_losses)"
      ],
      "metadata": {
        "colab": {
          "base_uri": "https://localhost:8080/",
          "height": 374
        },
        "id": "AN1AO0q9-YZW",
        "outputId": "e36c7446-ee01-4820-a2ec-720482ede48e"
      },
      "execution_count": 31,
      "outputs": [
        {
          "output_type": "display_data",
          "data": {
            "text/plain": [
              "<Figure size 720x360 with 1 Axes>"
            ],
            "image/png": "[encoded data removed]"
          },
          "metadata": {
            "needs_background": "light"
          }
        },
        {
          "output_type": "stream",
          "name": "stdout",
          "text": [
            "[6.849891344706218, 0.8395487070083618, 0.8305962880452474, 2.141092220942179, 0.3494347631931305, 0.7303101817766825, 0.8339776595433553, 0.9674263000488281, 1.6082388162612915, 0.1816907897591591, 0.727563202381134, 0.01062280653665463, 0.057976736376682915, 2.1688310305277505, 0.5526332557201385, 0.06670393670598666, 0.02043671750773986, 0.1953483372926712, 0.07246065884828568, 1.8039780855178833, 0.33178764084974927, 0.17396831264098486, 0.14851597448190054, 0.06860549872120221, 0.04280442992846171, 0.2148931473493576, 0.1739800969759623, 0.8280979593594869, 0.13680588454008102, 0.0022673808659116426, 2.497702638308207, 0.7414153218269348, 0.006955771241337061, 0.10309922819336255, 0.07652927190065384, 0.013965164932111898, 0.09355397894978523, 1.3499579826990764, 0.006272334139794111, 0.7176169753074646]\n"
          ]
        }
      ]
    },
    {
      "cell_type": "code",
      "source": [
        "import torch\n",
        "import torch.nn as nn\n",
        "import torchvision\n",
        "import torchvision.transforms as transforms\n",
        "\n",
        "model = DenseNet(num_classes).to(device)\n",
        "\n",
        "#Setting the loss function\n",
        "cost = nn.CrossEntropyLoss()\n",
        "\n",
        "#Setting the optimizer with the model parameters and learning rate\n",
        "optimizer = torch.optim.Adam(model.parameters(), lr=learning_rate)\n",
        "\n",
        "#this is defined to print how many steps are remaining when training\n",
        "total_step = len(train_loader)"
      ],
      "metadata": {
        "id": "iD6AEHVPoBb9"
      },
      "execution_count": 39,
      "outputs": []
    },
    {
      "cell_type": "code",
      "source": [
        "from sklearn.metrics import f1_score\n",
        "import numpy as np\n",
        "from tqdm import tqdm\n",
        "\n",
        "total_step = len(train_loader)\n",
        "for epoch in range(12):\n",
        "    for i, (images, labels) in enumerate(train_loader):  \n",
        "        images = images.to(device)\n",
        "        labels = labels.to(device)\n",
        "        \n",
        "        #Forward pass\n",
        "        outputs = model(images)\n",
        "        loss = cost(outputs, labels)\n",
        "        \t\n",
        "        # Backward and optimize\n",
        "        optimizer.zero_grad()\n",
        "        loss.backward()\n",
        "        optimizer.step()\n",
        "        \t\t\n",
        "        if (i+1) % 20 == 0:\n",
        "            print ('Epoch [{}/{}], Step [{}/{}], Loss: {:.4f}' \n",
        "        \t\t           .format(epoch+1, num_epochs, i+1, total_step, loss.item()))\n",
        "                       \n",
        "y_true = []\n",
        "y_pred = []\n",
        "\n",
        "for data in tqdm(test_loader):\n",
        "  images,labels=data[0].to(device),data[1]  \n",
        "  y_true.extend(labels.numpy())\n",
        " \n",
        "  outputs=model(images)\n",
        " \n",
        "  _, predicted = torch.max(outputs, 1)\n",
        "  y_pred.extend(predicted.cpu().numpy())\n",
        "f1_score(y_true, y_pred, average='macro')\n",
        "print(f1_score(y_true, y_pred, average='macro'))\n",
        "\n",
        "with torch.no_grad():\n",
        "    correct = 0\n",
        "    total = 0\n",
        "    for images, labels in test_loader:\n",
        "        images = images.to(device)\n",
        "        labels = labels.to(device)\n",
        "        outputs = model(images)\n",
        "        _, predicted = torch.max(outputs.data, 1)\n",
        "        total += labels.size(0)\n",
        "        correct += (predicted == labels).sum().item()\n",
        "\n",
        "    print('Accuracy of the network on the 10000 test images: {} %'.format(100 * correct / total))"
      ],
      "metadata": {
        "colab": {
          "base_uri": "https://localhost:8080/"
        },
        "id": "pkaRps8FoEft",
        "outputId": "b123712c-e2a3-40fa-ba28-20f6a1494a8a"
      },
      "execution_count": 40,
      "outputs": [
        {
          "output_type": "stream",
          "name": "stderr",
          "text": [
            "100%|██████████| 2/2 [00:01<00:00,  1.85it/s]\n"
          ]
        },
        {
          "output_type": "stream",
          "name": "stdout",
          "text": [
            "0.8829826504245109\n",
            "Accuracy of the network on the 10000 test images: 89.84375 %\n"
          ]
        }
      ]
    },
    {
      "cell_type": "code",
      "source": [
        "import sklearn.metrics\n",
        "\n",
        "print(\"f1 score\",f1_score(y_true, y_pred, average='macro'))\n",
        "print(\"f1 score\",f1_score(y_true, y_pred, average='micro'))\n",
        "print(\"accuracy_score\",sklearn.metrics.accuracy_score(y_true, y_pred))\n",
        "print(\"balanced accuracy_score\",sklearn.metrics.balanced_accuracy_score(y_true, y_pred))\n",
        "print(\"precision_score\",sklearn.metrics.precision_score(y_true, y_pred, average='macro'))\n",
        "print(\"rECALL micro\",sklearn.metrics.recall_score(y_true, y_pred, average='micro'))\n",
        "print(\"rECALL macro\",sklearn.metrics.recall_score(y_true, y_pred, average='macro'))"
      ],
      "metadata": {
        "colab": {
          "base_uri": "https://localhost:8080/"
        },
        "id": "luMyH26F-gLl",
        "outputId": "f970b169-aeb4-453f-8618-5cfe2df464ae"
      },
      "execution_count": 41,
      "outputs": [
        {
          "output_type": "stream",
          "name": "stdout",
          "text": [
            "f1 score 0.8829826504245109\n",
            "f1 score 0.8828125\n",
            "accuracy_score 0.8828125\n",
            "balanced accuracy_score 0.8831672203765226\n",
            "precision_score 0.8834674023273003\n",
            "rECALL micro 0.8828125\n",
            "rECALL macro 0.8831672203765226\n"
          ]
        }
      ]
    },
    {
      "cell_type": "code",
      "source": [
        "import seaborn as sns\n",
        "from tqdm import tqdm\n",
        "import sklearn\n",
        "import numpy as np\n",
        "import pandas as pd\n",
        "import matplotlib.pyplot as plt\n",
        "from sklearn.metrics import confusion_matrix\n",
        "\n",
        "y_true = []\n",
        "y_pred = []\n",
        " \n",
        "for data in tqdm(test_loader):\n",
        "  images,labels=data[0].to(device),data[1]  \n",
        "  y_true.extend(labels.numpy())\n",
        " \n",
        "  outputs=model(images)\n",
        " \n",
        "  _, predicted = torch.max(outputs, 1)\n",
        "  y_pred.extend(predicted.cpu().numpy())\n",
        "\n",
        "\n",
        "cf_matrix = confusion_matrix(y_true, y_pred)\n",
        "\n",
        "class_names = ('angular_leaf_spot', 'bean_rust', 'healthy')\n",
        "dataframe = pd.DataFrame(cf_matrix, index=class_names, columns=class_names)\n",
        "\n",
        "\n",
        "plt.figure(figsize=(8, 6))\n",
        " \n",
        "# Create heatmap\n",
        "sns.heatmap(dataframe, annot=True, cbar=None,cmap=\"YlGnBu\",fmt=\"d\")\n",
        " \n",
        "plt.title(\"Confusion Matrix\"), plt.tight_layout()\n",
        " \n",
        "plt.ylabel(\"True Class\"), \n",
        "plt.xlabel(\"Predicted Class\")\n",
        "plt.show()"
      ],
      "metadata": {
        "colab": {
          "base_uri": "https://localhost:8080/",
          "height": 473
        },
        "id": "QhZS9LOvuGO_",
        "outputId": "d33d70ac-36e8-4b93-a5af-72ed7711c101"
      },
      "execution_count": 42,
      "outputs": [
        {
          "output_type": "stream",
          "name": "stderr",
          "text": [
            "100%|██████████| 2/2 [00:01<00:00,  1.04it/s]\n"
          ]
        },
        {
          "output_type": "display_data",
          "data": {
            "text/plain": [
              "<Figure size 576x432 with 1 Axes>"
            ],
            "image/png": "[encoded data removed]"
          },
          "metadata": {
            "needs_background": "light"
          }
        }
      ]
    }
  ]
}